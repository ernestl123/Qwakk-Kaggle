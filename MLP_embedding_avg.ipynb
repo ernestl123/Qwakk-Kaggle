{
 "cells": [
  {
   "cell_type": "code",
   "execution_count": 1,
   "id": "d4c41c77",
   "metadata": {},
   "outputs": [
    {
     "name": "stdout",
     "output_type": "stream",
     "text": [
      "Requirement already satisfied: tqdm in /opt/conda/lib/python3.9/site-packages (4.61.2)\r\n"
     ]
    }
   ],
   "source": [
    "import numpy as np, pandas as pd\n",
    "import matplotlib.pyplot as plt\n",
    "import torch\n",
    "!pip install tqdm\n",
    "from tqdm import tqdm\n",
    "import torch.nn as nn"
   ]
  },
  {
   "cell_type": "code",
   "execution_count": 2,
   "id": "ae7cd9bf",
   "metadata": {},
   "outputs": [],
   "source": [
    "device = torch.device(\"cuda\" if torch.cuda.is_available() else \"cpu\")"
   ]
  },
  {
   "cell_type": "code",
   "execution_count": 3,
   "id": "873099af",
   "metadata": {},
   "outputs": [],
   "source": [
    "df = pd.read_csv(\"processed_train.csv\")"
   ]
  },
  {
   "cell_type": "code",
   "execution_count": 4,
   "id": "2c70c017",
   "metadata": {
    "scrolled": true
   },
   "outputs": [
    {
     "data": {
      "text/html": [
       "<div>\n",
       "<style scoped>\n",
       "    .dataframe tbody tr th:only-of-type {\n",
       "        vertical-align: middle;\n",
       "    }\n",
       "\n",
       "    .dataframe tbody tr th {\n",
       "        vertical-align: top;\n",
       "    }\n",
       "\n",
       "    .dataframe thead th {\n",
       "        text-align: right;\n",
       "    }\n",
       "</style>\n",
       "<table border=\"1\" class=\"dataframe\">\n",
       "  <thead>\n",
       "    <tr style=\"text-align: right;\">\n",
       "      <th></th>\n",
       "      <th>Unnamed: 0</th>\n",
       "      <th>ORIGIN_STAND</th>\n",
       "      <th>TAXI_ID</th>\n",
       "      <th>LEN</th>\n",
       "      <th>MON</th>\n",
       "      <th>DAY</th>\n",
       "      <th>HR</th>\n",
       "      <th>WK</th>\n",
       "      <th>ORIGIN_CALL_AVG_TIME</th>\n",
       "      <th>TAXI_ID_AVG_TIME</th>\n",
       "      <th>ORIGIN_STAND_AVG_TIME</th>\n",
       "      <th>WK_AVG_TIME</th>\n",
       "      <th>MON_AVG_TIME</th>\n",
       "      <th>HR_AVG_TIME</th>\n",
       "      <th>CALL_TYPE_A</th>\n",
       "      <th>CALL_TYPE_B</th>\n",
       "      <th>CALL_TYPE_C</th>\n",
       "    </tr>\n",
       "  </thead>\n",
       "  <tbody>\n",
       "    <tr>\n",
       "      <th>0</th>\n",
       "      <td>0</td>\n",
       "      <td>0.0</td>\n",
       "      <td>366</td>\n",
       "      <td>330</td>\n",
       "      <td>7</td>\n",
       "      <td>1</td>\n",
       "      <td>0</td>\n",
       "      <td>0</td>\n",
       "      <td>683.450173</td>\n",
       "      <td>673.103007</td>\n",
       "      <td>729.599652</td>\n",
       "      <td>721.988232</td>\n",
       "      <td>673.793106</td>\n",
       "      <td>596.947056</td>\n",
       "      <td>0</td>\n",
       "      <td>0</td>\n",
       "      <td>1</td>\n",
       "    </tr>\n",
       "    <tr>\n",
       "      <th>1</th>\n",
       "      <td>1</td>\n",
       "      <td>7.0</td>\n",
       "      <td>370</td>\n",
       "      <td>270</td>\n",
       "      <td>7</td>\n",
       "      <td>1</td>\n",
       "      <td>0</td>\n",
       "      <td>0</td>\n",
       "      <td>683.450173</td>\n",
       "      <td>693.969112</td>\n",
       "      <td>646.626119</td>\n",
       "      <td>721.988232</td>\n",
       "      <td>673.793106</td>\n",
       "      <td>596.947056</td>\n",
       "      <td>0</td>\n",
       "      <td>1</td>\n",
       "      <td>0</td>\n",
       "    </tr>\n",
       "    <tr>\n",
       "      <th>2</th>\n",
       "      <td>2</td>\n",
       "      <td>0.0</td>\n",
       "      <td>203</td>\n",
       "      <td>960</td>\n",
       "      <td>7</td>\n",
       "      <td>1</td>\n",
       "      <td>0</td>\n",
       "      <td>0</td>\n",
       "      <td>683.450173</td>\n",
       "      <td>671.735071</td>\n",
       "      <td>729.599652</td>\n",
       "      <td>721.988232</td>\n",
       "      <td>673.793106</td>\n",
       "      <td>596.947056</td>\n",
       "      <td>0</td>\n",
       "      <td>0</td>\n",
       "      <td>1</td>\n",
       "    </tr>\n",
       "    <tr>\n",
       "      <th>3</th>\n",
       "      <td>3</td>\n",
       "      <td>0.0</td>\n",
       "      <td>329</td>\n",
       "      <td>630</td>\n",
       "      <td>7</td>\n",
       "      <td>1</td>\n",
       "      <td>0</td>\n",
       "      <td>0</td>\n",
       "      <td>683.450173</td>\n",
       "      <td>623.547574</td>\n",
       "      <td>729.599652</td>\n",
       "      <td>721.988232</td>\n",
       "      <td>673.793106</td>\n",
       "      <td>596.947056</td>\n",
       "      <td>0</td>\n",
       "      <td>0</td>\n",
       "      <td>1</td>\n",
       "    </tr>\n",
       "    <tr>\n",
       "      <th>4</th>\n",
       "      <td>4</td>\n",
       "      <td>0.0</td>\n",
       "      <td>216</td>\n",
       "      <td>420</td>\n",
       "      <td>7</td>\n",
       "      <td>1</td>\n",
       "      <td>0</td>\n",
       "      <td>0</td>\n",
       "      <td>683.450173</td>\n",
       "      <td>709.728022</td>\n",
       "      <td>729.599652</td>\n",
       "      <td>721.988232</td>\n",
       "      <td>673.793106</td>\n",
       "      <td>596.947056</td>\n",
       "      <td>0</td>\n",
       "      <td>0</td>\n",
       "      <td>1</td>\n",
       "    </tr>\n",
       "  </tbody>\n",
       "</table>\n",
       "</div>"
      ],
      "text/plain": [
       "   Unnamed: 0  ORIGIN_STAND  TAXI_ID  LEN  MON  DAY  HR  WK  \\\n",
       "0           0           0.0      366  330    7    1   0   0   \n",
       "1           1           7.0      370  270    7    1   0   0   \n",
       "2           2           0.0      203  960    7    1   0   0   \n",
       "3           3           0.0      329  630    7    1   0   0   \n",
       "4           4           0.0      216  420    7    1   0   0   \n",
       "\n",
       "   ORIGIN_CALL_AVG_TIME  TAXI_ID_AVG_TIME  ORIGIN_STAND_AVG_TIME  WK_AVG_TIME  \\\n",
       "0            683.450173        673.103007             729.599652   721.988232   \n",
       "1            683.450173        693.969112             646.626119   721.988232   \n",
       "2            683.450173        671.735071             729.599652   721.988232   \n",
       "3            683.450173        623.547574             729.599652   721.988232   \n",
       "4            683.450173        709.728022             729.599652   721.988232   \n",
       "\n",
       "   MON_AVG_TIME  HR_AVG_TIME  CALL_TYPE_A  CALL_TYPE_B  CALL_TYPE_C  \n",
       "0    673.793106   596.947056            0            0            1  \n",
       "1    673.793106   596.947056            0            1            0  \n",
       "2    673.793106   596.947056            0            0            1  \n",
       "3    673.793106   596.947056            0            0            1  \n",
       "4    673.793106   596.947056            0            0            1  "
      ]
     },
     "execution_count": 4,
     "metadata": {},
     "output_type": "execute_result"
    }
   ],
   "source": [
    "df.head()"
   ]
  },
  {
   "cell_type": "code",
   "execution_count": 5,
   "id": "ec6425c9",
   "metadata": {},
   "outputs": [],
   "source": [
    "#Removing these for this MLP model only\n",
    "df = df.drop(columns=[\"Unnamed: 0\"])\n",
    "#df = df.drop(columns=[\"Unnamed: 0\", \"TRIP_ID\", \"ORIGIN_CALL\", \"ORIGIN_STAND\", \"TAXI_ID\", \"TIMESTAMP\"])\n",
    "#df = df.drop(columns=[\"Unnamed: 0\", \"ORIGIN_CALL\", \"ORIGIN_STAND\", \"TAXI_ID\", \"TIMESTAMP\", \"YR_2014\", \"YR\"])"
   ]
  },
  {
   "cell_type": "code",
   "execution_count": 6,
   "id": "6f2f73b2",
   "metadata": {},
   "outputs": [],
   "source": [
    "df_sample = df#.sample(frac=0.5)"
   ]
  },
  {
   "cell_type": "code",
   "execution_count": 7,
   "id": "9c297b09",
   "metadata": {},
   "outputs": [],
   "source": [
    "stand_size = len(df[\"ORIGIN_STAND\"].unique())\n",
    "taxi_size = len(df[\"TAXI_ID\"].unique())\n",
    "month_size = len(df[\"MON\"].unique())\n",
    "day_size = len(df[\"DAY\"].unique())\n",
    "hr_size = len(df[\"HR\"].unique())\n",
    "wk_size = len(df[\"WK\"].unique())\n",
    "#sizes = [stand_size, taxi_size, month_size, day_size, hr_size, wk_size]\n",
    "sizes = [hr_size, wk_size]"
   ]
  },
  {
   "cell_type": "code",
   "execution_count": 8,
   "id": "2dacd3a5",
   "metadata": {},
   "outputs": [],
   "source": [
    "df_len = df_sample[\"LEN\"]\n",
    "df_sample = df_sample.drop(columns=[\"LEN\", \"ORIGIN_STAND\", \"TAXI_ID\", \"MON\", 'DAY'])"
   ]
  },
  {
   "cell_type": "code",
   "execution_count": 9,
   "id": "fc25b4f9",
   "metadata": {},
   "outputs": [],
   "source": [
    "#Offset month and day by one because it originally starts at 1\n",
    "#Helps with embedding later\n",
    "#df_sample[\"MON\"] = df_sample[\"MON\"] - 1\n",
    "#df_sample[\"DAY\"] = df_sample[\"DAY\"] - 1"
   ]
  },
  {
   "cell_type": "code",
   "execution_count": 10,
   "id": "64e3cfb0",
   "metadata": {
    "scrolled": true
   },
   "outputs": [
    {
     "data": {
      "text/plain": [
       "1637710"
      ]
     },
     "execution_count": 10,
     "metadata": {},
     "output_type": "execute_result"
    }
   ],
   "source": [
    "len(df_sample)"
   ]
  },
  {
   "cell_type": "code",
   "execution_count": 11,
   "id": "82f605b5",
   "metadata": {},
   "outputs": [],
   "source": [
    "#Normalize each columns\n",
    "#df_sample = (df_sample-df_sample.min())/(df_sample.max()-df_sample.min())"
   ]
  },
  {
   "cell_type": "code",
   "execution_count": 12,
   "id": "9929e834",
   "metadata": {
    "scrolled": true
   },
   "outputs": [
    {
     "data": {
      "text/html": [
       "<div>\n",
       "<style scoped>\n",
       "    .dataframe tbody tr th:only-of-type {\n",
       "        vertical-align: middle;\n",
       "    }\n",
       "\n",
       "    .dataframe tbody tr th {\n",
       "        vertical-align: top;\n",
       "    }\n",
       "\n",
       "    .dataframe thead th {\n",
       "        text-align: right;\n",
       "    }\n",
       "</style>\n",
       "<table border=\"1\" class=\"dataframe\">\n",
       "  <thead>\n",
       "    <tr style=\"text-align: right;\">\n",
       "      <th></th>\n",
       "      <th>HR</th>\n",
       "      <th>WK</th>\n",
       "      <th>ORIGIN_CALL_AVG_TIME</th>\n",
       "      <th>TAXI_ID_AVG_TIME</th>\n",
       "      <th>ORIGIN_STAND_AVG_TIME</th>\n",
       "      <th>WK_AVG_TIME</th>\n",
       "      <th>MON_AVG_TIME</th>\n",
       "      <th>HR_AVG_TIME</th>\n",
       "      <th>CALL_TYPE_A</th>\n",
       "      <th>CALL_TYPE_B</th>\n",
       "      <th>CALL_TYPE_C</th>\n",
       "    </tr>\n",
       "  </thead>\n",
       "  <tbody>\n",
       "    <tr>\n",
       "      <th>0</th>\n",
       "      <td>0</td>\n",
       "      <td>0</td>\n",
       "      <td>683.450173</td>\n",
       "      <td>673.103007</td>\n",
       "      <td>729.599652</td>\n",
       "      <td>721.988232</td>\n",
       "      <td>673.793106</td>\n",
       "      <td>596.947056</td>\n",
       "      <td>0</td>\n",
       "      <td>0</td>\n",
       "      <td>1</td>\n",
       "    </tr>\n",
       "    <tr>\n",
       "      <th>1</th>\n",
       "      <td>0</td>\n",
       "      <td>0</td>\n",
       "      <td>683.450173</td>\n",
       "      <td>693.969112</td>\n",
       "      <td>646.626119</td>\n",
       "      <td>721.988232</td>\n",
       "      <td>673.793106</td>\n",
       "      <td>596.947056</td>\n",
       "      <td>0</td>\n",
       "      <td>1</td>\n",
       "      <td>0</td>\n",
       "    </tr>\n",
       "    <tr>\n",
       "      <th>2</th>\n",
       "      <td>0</td>\n",
       "      <td>0</td>\n",
       "      <td>683.450173</td>\n",
       "      <td>671.735071</td>\n",
       "      <td>729.599652</td>\n",
       "      <td>721.988232</td>\n",
       "      <td>673.793106</td>\n",
       "      <td>596.947056</td>\n",
       "      <td>0</td>\n",
       "      <td>0</td>\n",
       "      <td>1</td>\n",
       "    </tr>\n",
       "    <tr>\n",
       "      <th>3</th>\n",
       "      <td>0</td>\n",
       "      <td>0</td>\n",
       "      <td>683.450173</td>\n",
       "      <td>623.547574</td>\n",
       "      <td>729.599652</td>\n",
       "      <td>721.988232</td>\n",
       "      <td>673.793106</td>\n",
       "      <td>596.947056</td>\n",
       "      <td>0</td>\n",
       "      <td>0</td>\n",
       "      <td>1</td>\n",
       "    </tr>\n",
       "    <tr>\n",
       "      <th>4</th>\n",
       "      <td>0</td>\n",
       "      <td>0</td>\n",
       "      <td>683.450173</td>\n",
       "      <td>709.728022</td>\n",
       "      <td>729.599652</td>\n",
       "      <td>721.988232</td>\n",
       "      <td>673.793106</td>\n",
       "      <td>596.947056</td>\n",
       "      <td>0</td>\n",
       "      <td>0</td>\n",
       "      <td>1</td>\n",
       "    </tr>\n",
       "  </tbody>\n",
       "</table>\n",
       "</div>"
      ],
      "text/plain": [
       "   HR  WK  ORIGIN_CALL_AVG_TIME  TAXI_ID_AVG_TIME  ORIGIN_STAND_AVG_TIME  \\\n",
       "0   0   0            683.450173        673.103007             729.599652   \n",
       "1   0   0            683.450173        693.969112             646.626119   \n",
       "2   0   0            683.450173        671.735071             729.599652   \n",
       "3   0   0            683.450173        623.547574             729.599652   \n",
       "4   0   0            683.450173        709.728022             729.599652   \n",
       "\n",
       "   WK_AVG_TIME  MON_AVG_TIME  HR_AVG_TIME  CALL_TYPE_A  CALL_TYPE_B  \\\n",
       "0   721.988232    673.793106   596.947056            0            0   \n",
       "1   721.988232    673.793106   596.947056            0            1   \n",
       "2   721.988232    673.793106   596.947056            0            0   \n",
       "3   721.988232    673.793106   596.947056            0            0   \n",
       "4   721.988232    673.793106   596.947056            0            0   \n",
       "\n",
       "   CALL_TYPE_C  \n",
       "0            1  \n",
       "1            0  \n",
       "2            1  \n",
       "3            1  \n",
       "4            1  "
      ]
     },
     "execution_count": 12,
     "metadata": {},
     "output_type": "execute_result"
    }
   ],
   "source": [
    "df_sample.head()"
   ]
  },
  {
   "cell_type": "code",
   "execution_count": 13,
   "id": "81311958",
   "metadata": {},
   "outputs": [],
   "source": [
    "features = df_sample.values"
   ]
  },
  {
   "cell_type": "code",
   "execution_count": 14,
   "id": "1dcacac7",
   "metadata": {},
   "outputs": [
    {
     "data": {
      "text/plain": [
       "29"
      ]
     },
     "execution_count": 14,
     "metadata": {},
     "output_type": "execute_result"
    }
   ],
   "source": [
    "input_size = len(sizes) * (10 - 1) + len(features[0])\n",
    "input_size"
   ]
  },
  {
   "cell_type": "code",
   "execution_count": 15,
   "id": "a808461f",
   "metadata": {},
   "outputs": [
    {
     "data": {
      "text/plain": [
       "array([  0.        ,   0.        , 683.45017324, 673.10300704,\n",
       "       729.59965174, 721.98823218, 673.7931059 , 596.94705623,\n",
       "         0.        ,   0.        ,   1.        ])"
      ]
     },
     "execution_count": 15,
     "metadata": {},
     "output_type": "execute_result"
    }
   ],
   "source": [
    "features[0]"
   ]
  },
  {
   "cell_type": "code",
   "execution_count": 16,
   "id": "73000dd1",
   "metadata": {},
   "outputs": [],
   "source": [
    "x = torch.tensor(np.array(features), dtype = torch.float).to(device)\n",
    "\n",
    "y = torch.tensor(np.array(df_len.values), dtype = torch.float).to(device)\n",
    "\n",
    "data = list(zip(x, y))\n",
    "train_size = int(0.8 * len(data))\n",
    "val_size = int(0.1 * len(data))\n",
    "test_size = len(data) - train_size - val_size\n",
    "\n",
    "train_data, test_data, val_data = torch.utils.data.random_split(data, [train_size, test_size, val_size])"
   ]
  },
  {
   "cell_type": "code",
   "execution_count": 17,
   "id": "58907131",
   "metadata": {},
   "outputs": [],
   "source": [
    "batch_size = 3\n",
    "train_loader = torch.utils.data.DataLoader(train_data, batch_size=batch_size, shuffle = True)\n",
    "valid_loader = torch.utils.data.DataLoader(val_data, batch_size=batch_size, shuffle = False)\n",
    "test_loader = torch.utils.data.DataLoader(test_data, batch_size=batch_size, shuffle = False)\n",
    "# train_loader = train_data\n",
    "# valid_loader = val_data\n",
    "# test_loader = test_data"
   ]
  },
  {
   "cell_type": "code",
   "execution_count": 18,
   "id": "0e4265b2",
   "metadata": {},
   "outputs": [
    {
     "data": {
      "text/plain": [
       "(1310168, 163771, 163771)"
      ]
     },
     "execution_count": 18,
     "metadata": {},
     "output_type": "execute_result"
    }
   ],
   "source": [
    "len(train_data), len(test_data), len(val_data)"
   ]
  },
  {
   "cell_type": "code",
   "execution_count": 19,
   "id": "3184752f",
   "metadata": {},
   "outputs": [],
   "source": [
    "learning_rate = 1e-5"
   ]
  },
  {
   "cell_type": "code",
   "execution_count": 20,
   "id": "bce3d437",
   "metadata": {},
   "outputs": [],
   "source": [
    "# model = torch.nn.Sequential(\n",
    "#     torch.nn.Linear(input_size, 1024),\n",
    "#     torch.nn.ReLU(),\n",
    "#     torch.nn.Linear(1024, 1024),\n",
    "#     torch.nn.ReLU(),\n",
    "#     torch.nn.Linear(1024, 1024),\n",
    "#     torch.nn.ReLU(),\n",
    "#     torch.nn.Linear(1024, 1024),\n",
    "#     torch.nn.ReLU(),\n",
    "# #     torch.nn.Linear(1024, 1024),\n",
    "#     #torch.nn.ReLU(),\n",
    "#     torch.nn.Linear(1024, 1),\n",
    "# ).to(device)"
   ]
  },
  {
   "cell_type": "code",
   "execution_count": 21,
   "id": "f6d6ab42",
   "metadata": {},
   "outputs": [],
   "source": [
    "class MLP(nn.Module):\n",
    "    def __init__(self, sizes, input_size, hidden_size):\n",
    "        super(MLP, self).__init__()\n",
    "        #Embed layers for categorical features\n",
    "        self.sizes_len = len(sizes)\n",
    "        self.embeddings = [nn.Embedding(size, 10) for size in sizes]\n",
    "        self.is_embedding = True\n",
    "        # This is our holy embedding layer - the topic of this post\n",
    "#         self.embedding_stand = nn.Embedding(stand_size, 10)\n",
    "#         self.embedding_taxi = nn.Embedding(taxi_size, 10)\n",
    "\n",
    "        # FC layers\n",
    "        self.layers = nn.Sequential(\n",
    "            nn.Linear(input_size, hidden_size),\n",
    "            nn.ReLU(),\n",
    "            #nn.Dropout(0.2),\n",
    "            nn.Linear(hidden_size, hidden_size),\n",
    "            nn.ReLU(),\n",
    "            #nn.Dropout(0.2),\n",
    "            nn.Linear(hidden_size, hidden_size),\n",
    "            nn.ReLU(),\n",
    "            #nn.Dropout(0.2),\n",
    "            nn.Linear(hidden_size, hidden_size),\n",
    "            nn.ReLU(),\n",
    "            nn.Linear(hidden_size, 1)\n",
    "        )\n",
    "        \n",
    "        \n",
    "    def forward(self, x):\n",
    "        # Pass input through the embedding layers\n",
    "        if self.is_embedding:\n",
    "            embeds = []\n",
    "            for i, embedding in enumerate(self.embeddings):\n",
    "                x_temp = embedding(torch.LongTensor((x[:, i].to(\"cpu\").to(torch.long))))\n",
    "                embeds.append(x_temp)\n",
    "\n",
    "    #         x0 = self.embedding_stand(torch.LongTensor((x[:, 0].to(\"cpu\").to(torch.long))).to(device))\n",
    "    #         x1 = self.embedding_taxi(torch.LongTensor((x[:, 1].to(\"cpu\").to(torch.long))).to(device))\n",
    "            embeds = torch.hstack(embeds)\n",
    "\n",
    "            #Take out the first two columns, add the new embedded vectors \n",
    "            x = torch.cat([x[:, self.sizes_len:], embeds.to(device)], dim=1).to(device)\n",
    "        \n",
    "        #Fully connected  layers\n",
    "        return self.layers(x)\n",
    "model = MLP(sizes, input_size, 1024).to(device)"
   ]
  },
  {
   "cell_type": "code",
   "execution_count": 22,
   "id": "1d1de775",
   "metadata": {},
   "outputs": [],
   "source": [
    "loss_fn = torch.nn.MSELoss().to(device)\n",
    "#optimizer = torch.optim.Adam(model.parameters(), lr = learning_rate)\n",
    "optimizer = torch.optim.SGD(model.parameters(), lr = learning_rate)\n",
    "#optimizer = torch.optim.Adagrad(model.parameters())\n",
    "scheduler = torch.optim.lr_scheduler.StepLR(optimizer, step_size=7, gamma=0.1)"
   ]
  },
  {
   "cell_type": "code",
   "execution_count": 23,
   "id": "7a3846c6",
   "metadata": {},
   "outputs": [],
   "source": [
    "from tqdm import trange\n",
    "def train_epoch(train_data, model, optimizer, loss_fn, batch_size):\n",
    "    losses = []\n",
    "    train_len = len(train_data)\n",
    "    \n",
    "    # get a batch of training data\n",
    "    for x, y in tqdm(train_data):\n",
    "        # make predictions for this batch\n",
    "        y_pred = torch.squeeze(model(x))\n",
    "        \n",
    "        # Compute the RSME loss\n",
    "        loss = torch.sqrt(loss_fn(y_pred, y))\n",
    "        \n",
    "        # Backpropagation\n",
    "        # zero out the gradients so that it will not accumulate through each iteration\n",
    "        optimizer.zero_grad()\n",
    "        \n",
    "        # Compute the gradents with the backward call (backprop)\n",
    "        loss.backward()\n",
    "        \n",
    "        # Update weight using gradient descent \n",
    "        optimizer.step()\n",
    "        \n",
    "        losses.append(loss.item())\n",
    "\n",
    "    return np.mean(losses)\n",
    "\n",
    "def eval_epoch(valid_loader, model, loss_function):\n",
    "    losses = []\n",
    "    with torch.no_grad(): \n",
    "        for x, y in tqdm(valid_loader):\n",
    "            # Compute prediction\n",
    "            y_pred = torch.squeeze(model(x))\n",
    "            \n",
    "            loss = torch.sqrt(loss_fn(y_pred, y))\n",
    "            losses.append(loss.item())\n",
    "            \n",
    "    return np.mean(losses)\n",
    "\n",
    "train_losses = []\n",
    "val_losses = []"
   ]
  },
  {
   "cell_type": "code",
   "execution_count": 24,
   "id": "55d5e352",
   "metadata": {
    "scrolled": true
   },
   "outputs": [
    {
     "name": "stdout",
     "output_type": "stream",
     "text": [
      "Training on 1310168 data with batch size of 3!\n"
     ]
    },
    {
     "name": "stderr",
     "output_type": "stream",
     "text": [
      "100%|██████████| 436723/436723 [17:13<00:00, 422.67it/s]\n",
      "100%|█████████▉| 54548/54591 [00:50<00:00, 1170.68it/s]/opt/conda/lib/python3.9/site-packages/torch/nn/modules/loss.py:528: UserWarning: Using a target size (torch.Size([1])) that is different to the input size (torch.Size([])). This will likely lead to incorrect results due to broadcasting. Please ensure they have the same size.\n",
      "  return F.mse_loss(input, target, reduction=self.reduction)\n",
      "100%|██████████| 54591/54591 [00:50<00:00, 1076.82it/s]\n"
     ]
    },
    {
     "name": "stdout",
     "output_type": "stream",
     "text": [
      "Epoch: 1, Train Loss: 318.6557, Validation Loss 334.4520\n",
      "\n"
     ]
    },
    {
     "name": "stderr",
     "output_type": "stream",
     "text": [
      "100%|██████████| 436723/436723 [16:20<00:00, 445.25it/s]\n",
      "100%|██████████| 54591/54591 [00:44<00:00, 1222.09it/s]\n"
     ]
    },
    {
     "name": "stdout",
     "output_type": "stream",
     "text": [
      "Epoch: 2, Train Loss: 316.4583, Validation Loss 314.7529\n",
      "\n"
     ]
    },
    {
     "name": "stderr",
     "output_type": "stream",
     "text": [
      "100%|██████████| 436723/436723 [16:27<00:00, 442.33it/s]\n",
      "100%|██████████| 54591/54591 [00:44<00:00, 1227.43it/s]\n"
     ]
    },
    {
     "name": "stdout",
     "output_type": "stream",
     "text": [
      "Epoch: 3, Train Loss: 315.9189, Validation Loss 313.2189\n",
      "\n"
     ]
    },
    {
     "name": "stderr",
     "output_type": "stream",
     "text": [
      "100%|██████████| 436723/436723 [16:41<00:00, 436.03it/s]\n",
      "100%|██████████| 54591/54591 [00:48<00:00, 1137.31it/s]\n"
     ]
    },
    {
     "name": "stdout",
     "output_type": "stream",
     "text": [
      "Epoch: 4, Train Loss: 315.5720, Validation Loss 318.8621\n",
      "\n"
     ]
    },
    {
     "name": "stderr",
     "output_type": "stream",
     "text": [
      "100%|██████████| 436723/436723 [17:01<00:00, 427.54it/s]\n",
      "100%|██████████| 54591/54591 [00:44<00:00, 1230.56it/s]\n"
     ]
    },
    {
     "name": "stdout",
     "output_type": "stream",
     "text": [
      "Epoch: 5, Train Loss: 315.4001, Validation Loss 312.8920\n",
      "\n"
     ]
    },
    {
     "name": "stderr",
     "output_type": "stream",
     "text": [
      "100%|██████████| 436723/436723 [16:39<00:00, 437.00it/s]\n",
      "100%|██████████| 54591/54591 [00:48<00:00, 1123.88it/s]\n"
     ]
    },
    {
     "name": "stdout",
     "output_type": "stream",
     "text": [
      "Epoch: 6, Train Loss: 315.2811, Validation Loss 313.7701\n",
      "\n"
     ]
    },
    {
     "name": "stderr",
     "output_type": "stream",
     "text": [
      "100%|██████████| 436723/436723 [16:07<00:00, 451.43it/s]\n",
      "100%|██████████| 54591/54591 [00:40<00:00, 1336.75it/s]\n"
     ]
    },
    {
     "name": "stdout",
     "output_type": "stream",
     "text": [
      "Epoch: 7, Train Loss: 315.2597, Validation Loss 312.3756\n",
      "\n"
     ]
    },
    {
     "name": "stderr",
     "output_type": "stream",
     "text": [
      "100%|██████████| 436723/436723 [16:16<00:00, 447.01it/s]\n",
      "100%|██████████| 54591/54591 [00:46<00:00, 1167.75it/s]\n"
     ]
    },
    {
     "name": "stdout",
     "output_type": "stream",
     "text": [
      "Epoch: 8, Train Loss: 311.7729, Validation Loss 313.2451\n",
      "\n"
     ]
    },
    {
     "name": "stderr",
     "output_type": "stream",
     "text": [
      "100%|██████████| 436723/436723 [15:55<00:00, 456.86it/s]\n",
      "100%|██████████| 54591/54591 [00:41<00:00, 1330.78it/s]\n"
     ]
    },
    {
     "name": "stdout",
     "output_type": "stream",
     "text": [
      "Epoch: 9, Train Loss: 311.5323, Validation Loss 311.4853\n",
      "\n"
     ]
    },
    {
     "name": "stderr",
     "output_type": "stream",
     "text": [
      "100%|██████████| 436723/436723 [16:35<00:00, 438.91it/s]\n",
      "100%|██████████| 54591/54591 [00:40<00:00, 1344.29it/s]\n"
     ]
    },
    {
     "name": "stdout",
     "output_type": "stream",
     "text": [
      "Epoch: 10, Train Loss: 311.6416, Validation Loss 311.4129\n",
      "\n"
     ]
    },
    {
     "name": "stderr",
     "output_type": "stream",
     "text": [
      "100%|██████████| 436723/436723 [16:33<00:00, 439.42it/s]\n",
      "100%|██████████| 54591/54591 [00:44<00:00, 1217.71it/s]\n"
     ]
    },
    {
     "name": "stdout",
     "output_type": "stream",
     "text": [
      "Epoch: 11, Train Loss: 311.6086, Validation Loss 311.4899\n",
      "\n"
     ]
    },
    {
     "name": "stderr",
     "output_type": "stream",
     "text": [
      "100%|██████████| 436723/436723 [15:27<00:00, 470.82it/s]\n",
      "100%|██████████| 54591/54591 [00:37<00:00, 1445.74it/s]\n"
     ]
    },
    {
     "name": "stdout",
     "output_type": "stream",
     "text": [
      "Epoch: 12, Train Loss: 311.4826, Validation Loss 311.5445\n",
      "\n"
     ]
    },
    {
     "name": "stderr",
     "output_type": "stream",
     "text": [
      "100%|██████████| 436723/436723 [14:48<00:00, 491.27it/s]\n",
      "100%|██████████| 54591/54591 [00:37<00:00, 1449.78it/s]\n"
     ]
    },
    {
     "name": "stdout",
     "output_type": "stream",
     "text": [
      "Epoch: 13, Train Loss: 311.5492, Validation Loss 313.0759\n",
      "\n"
     ]
    },
    {
     "name": "stderr",
     "output_type": "stream",
     "text": [
      "100%|██████████| 436723/436723 [14:38<00:00, 496.87it/s]\n",
      "100%|██████████| 54591/54591 [00:37<00:00, 1444.15it/s]\n"
     ]
    },
    {
     "name": "stdout",
     "output_type": "stream",
     "text": [
      "Epoch: 14, Train Loss: 311.5503, Validation Loss 311.9286\n",
      "\n"
     ]
    },
    {
     "name": "stderr",
     "output_type": "stream",
     "text": [
      "100%|██████████| 436723/436723 [14:49<00:00, 491.22it/s]\n",
      "100%|██████████| 54591/54591 [00:37<00:00, 1450.35it/s]\n"
     ]
    },
    {
     "name": "stdout",
     "output_type": "stream",
     "text": [
      "Epoch: 15, Train Loss: 311.1174, Validation Loss 311.2407\n",
      "\n"
     ]
    },
    {
     "name": "stderr",
     "output_type": "stream",
     "text": [
      "100%|██████████| 436723/436723 [14:28<00:00, 502.57it/s]\n",
      "100%|██████████| 54591/54591 [00:37<00:00, 1452.88it/s]\n"
     ]
    },
    {
     "name": "stdout",
     "output_type": "stream",
     "text": [
      "Epoch: 16, Train Loss: 311.0213, Validation Loss 311.2184\n",
      "\n"
     ]
    },
    {
     "name": "stderr",
     "output_type": "stream",
     "text": [
      "100%|██████████| 436723/436723 [14:49<00:00, 491.04it/s]\n",
      "100%|██████████| 54591/54591 [00:37<00:00, 1437.57it/s]\n"
     ]
    },
    {
     "name": "stdout",
     "output_type": "stream",
     "text": [
      "Epoch: 17, Train Loss: 311.1632, Validation Loss 311.2128\n",
      "\n"
     ]
    },
    {
     "name": "stderr",
     "output_type": "stream",
     "text": [
      "100%|██████████| 436723/436723 [14:39<00:00, 496.49it/s]\n",
      "100%|██████████| 54591/54591 [00:40<00:00, 1355.50it/s]\n"
     ]
    },
    {
     "name": "stdout",
     "output_type": "stream",
     "text": [
      "Epoch: 18, Train Loss: 311.1571, Validation Loss 311.2569\n",
      "\n"
     ]
    },
    {
     "name": "stderr",
     "output_type": "stream",
     "text": [
      "100%|██████████| 436723/436723 [14:51<00:00, 490.06it/s]\n",
      "100%|██████████| 54591/54591 [00:47<00:00, 1143.78it/s]\n"
     ]
    },
    {
     "name": "stdout",
     "output_type": "stream",
     "text": [
      "Epoch: 19, Train Loss: 311.0362, Validation Loss 311.2206\n",
      "\n"
     ]
    },
    {
     "name": "stderr",
     "output_type": "stream",
     "text": [
      "100%|██████████| 436723/436723 [14:55<00:00, 487.53it/s]\n",
      "100%|██████████| 54591/54591 [00:38<00:00, 1426.91it/s]"
     ]
    },
    {
     "name": "stdout",
     "output_type": "stream",
     "text": [
      "Epoch: 20, Train Loss: 311.1367, Validation Loss 311.2260\n",
      "\n"
     ]
    },
    {
     "name": "stderr",
     "output_type": "stream",
     "text": [
      "\n"
     ]
    }
   ],
   "source": [
    "total_epochs = 20\n",
    "max_acc = 0\n",
    "val_loss = 0\n",
    "print(f\"Training on {len(train_data)} data with batch size of {batch_size}!\")\n",
    "for epoch in range(total_epochs):\n",
    "    \n",
    "    model.train() # gradient tracking is on\n",
    "    \n",
    "    train_loss = train_epoch(train_loader, model, optimizer, loss_fn, batch_size)\n",
    "    \n",
    "    train_losses.append(train_loss)\n",
    "    \n",
    "    model.eval()\n",
    "    val_loss = eval_epoch(valid_loader, model, loss_fn)\n",
    "    val_losses.append(val_loss)\n",
    "    scheduler.step()\n",
    "    print(f\"Epoch: {epoch+1}, Train Loss: {train_loss:>0.4f}, Validation Loss {val_loss:>0.4f}\\n\")"
   ]
  },
  {
   "cell_type": "code",
   "execution_count": 25,
   "id": "1d16bc41",
   "metadata": {
    "scrolled": true
   },
   "outputs": [
    {
     "name": "stderr",
     "output_type": "stream",
     "text": [
      "100%|██████████| 54591/54591 [00:38<00:00, 1424.67it/s]\n"
     ]
    },
    {
     "data": {
      "text/plain": [
       "310.45585870865085"
      ]
     },
     "execution_count": 25,
     "metadata": {},
     "output_type": "execute_result"
    }
   ],
   "source": [
    "model.eval()\n",
    "eval_epoch(test_loader, model, loss_fn)"
   ]
  },
  {
   "cell_type": "code",
   "execution_count": 26,
   "id": "65ca158a",
   "metadata": {
    "scrolled": true
   },
   "outputs": [
    {
     "data": {
      "image/png": "[encoded data removed]",
      "text/plain": [
       "<Figure size 432x288 with 1 Axes>"
      ]
     },
     "metadata": {
      "needs_background": "light"
     },
     "output_type": "display_data"
    }
   ],
   "source": [
    "import numpy as np\n",
    "import matplotlib.pyplot as plt\n",
    "plt.figure()\n",
    "e = len(train_losses)\n",
    "x_axis = np.arange(1, e + 1, 1)\n",
    "plt.plot(x_axis, train_losses, label = \"Train\")\n",
    "plt.plot(x_axis, val_losses, label = \"Validation\")\n",
    "plt.legend()\n",
    "plt.title('Training losses')\n",
    "plt.xlabel(\"Epochs\")\n",
    "plt.show()"
   ]
  },
  {
   "cell_type": "code",
   "execution_count": 27,
   "id": "ac985c31",
   "metadata": {},
   "outputs": [],
   "source": [
    "# count = 0\n",
    "# loss_dict = {}\n",
    "# with torch.no_grad(): \n",
    "#     for index, row in df_sample.iterrows():\n",
    "#         x = torch.tensor(row.values, dtype=torch.float).to(device)\n",
    "#         y_pred = model(x)\n",
    "\n",
    "#         loss = torch.sqrt(loss_fn(y_pred, y[count]))\n",
    "#         count += 1\n",
    "\n",
    "#         loss_dict[index] = loss"
   ]
  },
  {
   "cell_type": "code",
   "execution_count": 28,
   "id": "0c305043",
   "metadata": {},
   "outputs": [],
   "source": [
    "# indexes = list(sorted(loss_dict))\n",
    "# indexes[-11:-1]"
   ]
  },
  {
   "cell_type": "code",
   "execution_count": 29,
   "id": "7ce69110",
   "metadata": {},
   "outputs": [],
   "source": [
    "df_orig = pd.read_csv(\"processed_train.csv\")"
   ]
  },
  {
   "cell_type": "code",
   "execution_count": 30,
   "id": "02de68d0",
   "metadata": {},
   "outputs": [],
   "source": [
    "torch.save(model, \"MLP_embed_full_data\")"
   ]
  },
  {
   "cell_type": "code",
   "execution_count": 31,
   "id": "53b158f0",
   "metadata": {},
   "outputs": [],
   "source": [
    "#model = torch.load(\"MLP2.5\")"
   ]
  },
  {
   "cell_type": "code",
   "execution_count": 32,
   "id": "0e48e93b",
   "metadata": {
    "scrolled": true
   },
   "outputs": [],
   "source": [
    "df_test = pd.read_csv(\"processed_test.csv\")\n",
    "df_out = df_test[\"TRIP_ID\"].to_frame()\n",
    "#df_test = df_test.drop(columns=[\"Unnamed: 0\", \"TRIP_ID\", \"DAY_TYPE_A\", \"DAY_TYPE_B\", \"DAY_TYPE_C\"])\n"
   ]
  },
  {
   "cell_type": "code",
   "execution_count": 33,
   "id": "1fb47c7a",
   "metadata": {},
   "outputs": [],
   "source": [
    "#df_test[\"MON\"] = df_test[\"MON\"] - 1\n",
    "#df_test[\"DAY\"] = df_test[\"DAY\"] - 1"
   ]
  },
  {
   "cell_type": "code",
   "execution_count": 34,
   "id": "ecbb45d5",
   "metadata": {},
   "outputs": [],
   "source": [
    "\n",
    "df_test = df_test.drop(columns=[\"Unnamed: 0\", \"ORIGIN_STAND\", \"TAXI_ID\", \"MON\", 'DAY', \"TRIP_ID\"])"
   ]
  },
  {
   "cell_type": "code",
   "execution_count": 35,
   "id": "a90ead83",
   "metadata": {
    "scrolled": true
   },
   "outputs": [
    {
     "data": {
      "text/html": [
       "<div>\n",
       "<style scoped>\n",
       "    .dataframe tbody tr th:only-of-type {\n",
       "        vertical-align: middle;\n",
       "    }\n",
       "\n",
       "    .dataframe tbody tr th {\n",
       "        vertical-align: top;\n",
       "    }\n",
       "\n",
       "    .dataframe thead th {\n",
       "        text-align: right;\n",
       "    }\n",
       "</style>\n",
       "<table border=\"1\" class=\"dataframe\">\n",
       "  <thead>\n",
       "    <tr style=\"text-align: right;\">\n",
       "      <th></th>\n",
       "      <th>HR</th>\n",
       "      <th>WK</th>\n",
       "      <th>ORIGIN_CALL_AVG_TIME</th>\n",
       "      <th>TAXI_ID_AVG_TIME</th>\n",
       "      <th>ORIGIN_STAND_AVG_TIME</th>\n",
       "      <th>WK_AVG_TIME</th>\n",
       "      <th>MON_AVG_TIME</th>\n",
       "      <th>HR_AVG_TIME</th>\n",
       "      <th>CALL_TYPE_A</th>\n",
       "      <th>CALL_TYPE_B</th>\n",
       "      <th>CALL_TYPE_C</th>\n",
       "    </tr>\n",
       "  </thead>\n",
       "  <tbody>\n",
       "    <tr>\n",
       "      <th>0</th>\n",
       "      <td>17</td>\n",
       "      <td>3</td>\n",
       "      <td>683.450173</td>\n",
       "      <td>702.514286</td>\n",
       "      <td>766.610383</td>\n",
       "      <td>710.283479</td>\n",
       "      <td>649.472439</td>\n",
       "      <td>822.471678</td>\n",
       "      <td>0</td>\n",
       "      <td>1</td>\n",
       "      <td>0</td>\n",
       "    </tr>\n",
       "    <tr>\n",
       "      <th>1</th>\n",
       "      <td>17</td>\n",
       "      <td>3</td>\n",
       "      <td>683.450173</td>\n",
       "      <td>680.091586</td>\n",
       "      <td>659.724281</td>\n",
       "      <td>710.283479</td>\n",
       "      <td>649.472439</td>\n",
       "      <td>822.471678</td>\n",
       "      <td>0</td>\n",
       "      <td>1</td>\n",
       "      <td>0</td>\n",
       "    </tr>\n",
       "    <tr>\n",
       "      <th>2</th>\n",
       "      <td>17</td>\n",
       "      <td>3</td>\n",
       "      <td>683.450173</td>\n",
       "      <td>622.094241</td>\n",
       "      <td>766.610383</td>\n",
       "      <td>710.283479</td>\n",
       "      <td>649.472439</td>\n",
       "      <td>822.471678</td>\n",
       "      <td>0</td>\n",
       "      <td>1</td>\n",
       "      <td>0</td>\n",
       "    </tr>\n",
       "    <tr>\n",
       "      <th>3</th>\n",
       "      <td>17</td>\n",
       "      <td>3</td>\n",
       "      <td>683.450173</td>\n",
       "      <td>623.333807</td>\n",
       "      <td>627.823529</td>\n",
       "      <td>710.283479</td>\n",
       "      <td>649.472439</td>\n",
       "      <td>822.471678</td>\n",
       "      <td>0</td>\n",
       "      <td>1</td>\n",
       "      <td>0</td>\n",
       "    </tr>\n",
       "    <tr>\n",
       "      <th>4</th>\n",
       "      <td>17</td>\n",
       "      <td>3</td>\n",
       "      <td>683.450173</td>\n",
       "      <td>624.266297</td>\n",
       "      <td>718.371884</td>\n",
       "      <td>710.283479</td>\n",
       "      <td>649.472439</td>\n",
       "      <td>822.471678</td>\n",
       "      <td>0</td>\n",
       "      <td>1</td>\n",
       "      <td>0</td>\n",
       "    </tr>\n",
       "  </tbody>\n",
       "</table>\n",
       "</div>"
      ],
      "text/plain": [
       "   HR  WK  ORIGIN_CALL_AVG_TIME  TAXI_ID_AVG_TIME  ORIGIN_STAND_AVG_TIME  \\\n",
       "0  17   3            683.450173        702.514286             766.610383   \n",
       "1  17   3            683.450173        680.091586             659.724281   \n",
       "2  17   3            683.450173        622.094241             766.610383   \n",
       "3  17   3            683.450173        623.333807             627.823529   \n",
       "4  17   3            683.450173        624.266297             718.371884   \n",
       "\n",
       "   WK_AVG_TIME  MON_AVG_TIME  HR_AVG_TIME  CALL_TYPE_A  CALL_TYPE_B  \\\n",
       "0   710.283479    649.472439   822.471678            0            1   \n",
       "1   710.283479    649.472439   822.471678            0            1   \n",
       "2   710.283479    649.472439   822.471678            0            1   \n",
       "3   710.283479    649.472439   822.471678            0            1   \n",
       "4   710.283479    649.472439   822.471678            0            1   \n",
       "\n",
       "   CALL_TYPE_C  \n",
       "0            0  \n",
       "1            0  \n",
       "2            0  \n",
       "3            0  \n",
       "4            0  "
      ]
     },
     "execution_count": 35,
     "metadata": {},
     "output_type": "execute_result"
    }
   ],
   "source": [
    "df_test.head()"
   ]
  },
  {
   "cell_type": "code",
   "execution_count": 36,
   "id": "6f3b465a",
   "metadata": {},
   "outputs": [],
   "source": [
    "x_test = [torch.tensor(df_test.iloc[i].values,dtype=torch.float).to(device) for i in range(len(df_test))]"
   ]
  },
  {
   "cell_type": "code",
   "execution_count": 37,
   "id": "f8ff87d8",
   "metadata": {},
   "outputs": [],
   "source": [
    "x_test = torch.utils.data.DataLoader(x_test)"
   ]
  },
  {
   "cell_type": "code",
   "execution_count": 38,
   "id": "09d5275d",
   "metadata": {},
   "outputs": [],
   "source": [
    "model.eval()\n",
    "with torch.no_grad(): \n",
    "    df_out[\"TRAVEL_TIME\"] = [float(model(x).cpu()) for x in x_test]\n",
    "df_out.head()\n",
    "\n",
    "df_out.to_csv(\"my_pred.csv\", index=None)"
   ]
  },
  {
   "cell_type": "code",
   "execution_count": 39,
   "id": "b705e69c",
   "metadata": {},
   "outputs": [],
   "source": [
    "#TODO Implement accuracy or smthing for training\n",
    "#Do something with validation (make a validation set)"
   ]
  },
  {
   "cell_type": "code",
   "execution_count": null,
   "id": "2b5e4175",
   "metadata": {},
   "outputs": [],
   "source": []
  },
  {
   "cell_type": "code",
   "execution_count": null,
   "id": "23cec29b",
   "metadata": {},
   "outputs": [],
   "source": []
  }
 ],
 "metadata": {
  "kernelspec": {
   "display_name": "Python 3 (clean)",
   "language": "python",
   "name": "python3_clean"
  },
  "language_info": {
   "codemirror_mode": {
    "name": "ipython",
    "version": 3
   },
   "file_extension": ".py",
   "mimetype": "text/x-python",
   "name": "python",
   "nbconvert_exporter": "python",
   "pygments_lexer": "ipython3",
   "version": "3.9.5"
  }
 },
 "nbformat": 4,
 "nbformat_minor": 5
}
