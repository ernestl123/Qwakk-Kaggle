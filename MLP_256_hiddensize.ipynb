{
 "cells": [
  {
   "cell_type": "code",
   "execution_count": 1,
   "id": "d4c41c77",
   "metadata": {},
   "outputs": [
    {
     "name": "stdout",
     "output_type": "stream",
     "text": [
      "Requirement already satisfied: tqdm in /opt/conda/lib/python3.9/site-packages (4.61.2)\r\n"
     ]
    }
   ],
   "source": [
    "import numpy as np, pandas as pd\n",
    "import matplotlib.pyplot as plt\n",
    "import torch\n",
    "!pip install tqdm\n",
    "from tqdm import tqdm"
   ]
  },
  {
   "cell_type": "code",
   "execution_count": 2,
   "id": "ae7cd9bf",
   "metadata": {},
   "outputs": [],
   "source": [
    "device = torch.device(\"cuda\" if torch.cuda.is_available() else \"cpu\")"
   ]
  },
  {
   "cell_type": "code",
   "execution_count": 3,
   "id": "873099af",
   "metadata": {},
   "outputs": [],
   "source": [
    "df = pd.read_csv(\"processed_train.csv\")"
   ]
  },
  {
   "cell_type": "code",
   "execution_count": 4,
   "id": "2c70c017",
   "metadata": {},
   "outputs": [
    {
     "data": {
      "text/html": [
       "<div>\n",
       "<style scoped>\n",
       "    .dataframe tbody tr th:only-of-type {\n",
       "        vertical-align: middle;\n",
       "    }\n",
       "\n",
       "    .dataframe tbody tr th {\n",
       "        vertical-align: top;\n",
       "    }\n",
       "\n",
       "    .dataframe thead th {\n",
       "        text-align: right;\n",
       "    }\n",
       "</style>\n",
       "<table border=\"1\" class=\"dataframe\">\n",
       "  <thead>\n",
       "    <tr style=\"text-align: right;\">\n",
       "      <th></th>\n",
       "      <th>Unnamed: 0</th>\n",
       "      <th>TRIP_ID</th>\n",
       "      <th>ORIGIN_CALL</th>\n",
       "      <th>ORIGIN_STAND</th>\n",
       "      <th>TAXI_ID</th>\n",
       "      <th>TIMESTAMP</th>\n",
       "      <th>LEN</th>\n",
       "      <th>YR</th>\n",
       "      <th>MON</th>\n",
       "      <th>DAY</th>\n",
       "      <th>HR</th>\n",
       "      <th>WK</th>\n",
       "      <th>CALL_TYPE_A</th>\n",
       "      <th>CALL_TYPE_B</th>\n",
       "      <th>CALL_TYPE_C</th>\n",
       "      <th>DAY_TYPE_A</th>\n",
       "      <th>DAY_TYPE_B</th>\n",
       "      <th>DAY_TYPE_C</th>\n",
       "      <th>YR_2014</th>\n",
       "    </tr>\n",
       "  </thead>\n",
       "  <tbody>\n",
       "    <tr>\n",
       "      <th>0</th>\n",
       "      <td>0</td>\n",
       "      <td>1372636858620000589</td>\n",
       "      <td>NaN</td>\n",
       "      <td>NaN</td>\n",
       "      <td>20000589</td>\n",
       "      <td>1372636858</td>\n",
       "      <td>330</td>\n",
       "      <td>2013</td>\n",
       "      <td>7</td>\n",
       "      <td>1</td>\n",
       "      <td>0</td>\n",
       "      <td>0</td>\n",
       "      <td>0</td>\n",
       "      <td>0</td>\n",
       "      <td>1</td>\n",
       "      <td>1</td>\n",
       "      <td>0</td>\n",
       "      <td>0</td>\n",
       "      <td>0</td>\n",
       "    </tr>\n",
       "    <tr>\n",
       "      <th>1</th>\n",
       "      <td>1</td>\n",
       "      <td>1372637303620000596</td>\n",
       "      <td>NaN</td>\n",
       "      <td>7.0</td>\n",
       "      <td>20000596</td>\n",
       "      <td>1372637303</td>\n",
       "      <td>270</td>\n",
       "      <td>2013</td>\n",
       "      <td>7</td>\n",
       "      <td>1</td>\n",
       "      <td>0</td>\n",
       "      <td>0</td>\n",
       "      <td>0</td>\n",
       "      <td>1</td>\n",
       "      <td>0</td>\n",
       "      <td>1</td>\n",
       "      <td>0</td>\n",
       "      <td>0</td>\n",
       "      <td>0</td>\n",
       "    </tr>\n",
       "    <tr>\n",
       "      <th>2</th>\n",
       "      <td>2</td>\n",
       "      <td>1372636951620000320</td>\n",
       "      <td>NaN</td>\n",
       "      <td>NaN</td>\n",
       "      <td>20000320</td>\n",
       "      <td>1372636951</td>\n",
       "      <td>960</td>\n",
       "      <td>2013</td>\n",
       "      <td>7</td>\n",
       "      <td>1</td>\n",
       "      <td>0</td>\n",
       "      <td>0</td>\n",
       "      <td>0</td>\n",
       "      <td>0</td>\n",
       "      <td>1</td>\n",
       "      <td>1</td>\n",
       "      <td>0</td>\n",
       "      <td>0</td>\n",
       "      <td>0</td>\n",
       "    </tr>\n",
       "    <tr>\n",
       "      <th>3</th>\n",
       "      <td>3</td>\n",
       "      <td>1372636854620000520</td>\n",
       "      <td>NaN</td>\n",
       "      <td>NaN</td>\n",
       "      <td>20000520</td>\n",
       "      <td>1372636854</td>\n",
       "      <td>630</td>\n",
       "      <td>2013</td>\n",
       "      <td>7</td>\n",
       "      <td>1</td>\n",
       "      <td>0</td>\n",
       "      <td>0</td>\n",
       "      <td>0</td>\n",
       "      <td>0</td>\n",
       "      <td>1</td>\n",
       "      <td>1</td>\n",
       "      <td>0</td>\n",
       "      <td>0</td>\n",
       "      <td>0</td>\n",
       "    </tr>\n",
       "    <tr>\n",
       "      <th>4</th>\n",
       "      <td>4</td>\n",
       "      <td>1372637091620000337</td>\n",
       "      <td>NaN</td>\n",
       "      <td>NaN</td>\n",
       "      <td>20000337</td>\n",
       "      <td>1372637091</td>\n",
       "      <td>420</td>\n",
       "      <td>2013</td>\n",
       "      <td>7</td>\n",
       "      <td>1</td>\n",
       "      <td>0</td>\n",
       "      <td>0</td>\n",
       "      <td>0</td>\n",
       "      <td>0</td>\n",
       "      <td>1</td>\n",
       "      <td>1</td>\n",
       "      <td>0</td>\n",
       "      <td>0</td>\n",
       "      <td>0</td>\n",
       "    </tr>\n",
       "  </tbody>\n",
       "</table>\n",
       "</div>"
      ],
      "text/plain": [
       "   Unnamed: 0              TRIP_ID  ORIGIN_CALL  ORIGIN_STAND   TAXI_ID  \\\n",
       "0           0  1372636858620000589          NaN           NaN  20000589   \n",
       "1           1  1372637303620000596          NaN           7.0  20000596   \n",
       "2           2  1372636951620000320          NaN           NaN  20000320   \n",
       "3           3  1372636854620000520          NaN           NaN  20000520   \n",
       "4           4  1372637091620000337          NaN           NaN  20000337   \n",
       "\n",
       "    TIMESTAMP  LEN    YR  MON  DAY  HR  WK  CALL_TYPE_A  CALL_TYPE_B  \\\n",
       "0  1372636858  330  2013    7    1   0   0            0            0   \n",
       "1  1372637303  270  2013    7    1   0   0            0            1   \n",
       "2  1372636951  960  2013    7    1   0   0            0            0   \n",
       "3  1372636854  630  2013    7    1   0   0            0            0   \n",
       "4  1372637091  420  2013    7    1   0   0            0            0   \n",
       "\n",
       "   CALL_TYPE_C  DAY_TYPE_A  DAY_TYPE_B  DAY_TYPE_C  YR_2014  \n",
       "0            1           1           0           0        0  \n",
       "1            0           1           0           0        0  \n",
       "2            1           1           0           0        0  \n",
       "3            1           1           0           0        0  \n",
       "4            1           1           0           0        0  "
      ]
     },
     "execution_count": 4,
     "metadata": {},
     "output_type": "execute_result"
    }
   ],
   "source": [
    "df.head()"
   ]
  },
  {
   "cell_type": "code",
   "execution_count": 5,
   "id": "dfe747ed",
   "metadata": {},
   "outputs": [],
   "source": [
    "#Removing these for this MLP model only\n",
    "df = df.drop(columns=[\"Unnamed: 0\", \"TRIP_ID\", \"ORIGIN_CALL\", \"ORIGIN_STAND\", \"TAXI_ID\", \"TIMESTAMP\", \"YR_2014\", \"YR\"])"
   ]
  },
  {
   "cell_type": "code",
   "execution_count": 6,
   "id": "6f2f73b2",
   "metadata": {},
   "outputs": [],
   "source": [
    "#Take 20% of data to train\n",
    "df_sample = df.sample(frac=0.2)"
   ]
  },
  {
   "cell_type": "code",
   "execution_count": 7,
   "id": "2dacd3a5",
   "metadata": {},
   "outputs": [],
   "source": [
    "df_len = df[\"LEN\"]\n",
    "df_sample = df_sample.drop(columns=[\"LEN\"])"
   ]
  },
  {
   "cell_type": "code",
   "execution_count": 8,
   "id": "64e3cfb0",
   "metadata": {},
   "outputs": [
    {
     "data": {
      "text/plain": [
       "342132"
      ]
     },
     "execution_count": 8,
     "metadata": {},
     "output_type": "execute_result"
    }
   ],
   "source": [
    "len(df_sample)"
   ]
  },
  {
   "cell_type": "code",
   "execution_count": 9,
   "id": "9929e834",
   "metadata": {},
   "outputs": [
    {
     "data": {
      "text/html": [
       "<div>\n",
       "<style scoped>\n",
       "    .dataframe tbody tr th:only-of-type {\n",
       "        vertical-align: middle;\n",
       "    }\n",
       "\n",
       "    .dataframe tbody tr th {\n",
       "        vertical-align: top;\n",
       "    }\n",
       "\n",
       "    .dataframe thead th {\n",
       "        text-align: right;\n",
       "    }\n",
       "</style>\n",
       "<table border=\"1\" class=\"dataframe\">\n",
       "  <thead>\n",
       "    <tr style=\"text-align: right;\">\n",
       "      <th></th>\n",
       "      <th>MON</th>\n",
       "      <th>DAY</th>\n",
       "      <th>HR</th>\n",
       "      <th>WK</th>\n",
       "      <th>CALL_TYPE_A</th>\n",
       "      <th>CALL_TYPE_B</th>\n",
       "      <th>CALL_TYPE_C</th>\n",
       "      <th>DAY_TYPE_A</th>\n",
       "      <th>DAY_TYPE_B</th>\n",
       "      <th>DAY_TYPE_C</th>\n",
       "    </tr>\n",
       "  </thead>\n",
       "  <tbody>\n",
       "    <tr>\n",
       "      <th>288397</th>\n",
       "      <td>9</td>\n",
       "      <td>5</td>\n",
       "      <td>6</td>\n",
       "      <td>3</td>\n",
       "      <td>1</td>\n",
       "      <td>0</td>\n",
       "      <td>0</td>\n",
       "      <td>1</td>\n",
       "      <td>0</td>\n",
       "      <td>0</td>\n",
       "    </tr>\n",
       "    <tr>\n",
       "      <th>221113</th>\n",
       "      <td>8</td>\n",
       "      <td>18</td>\n",
       "      <td>9</td>\n",
       "      <td>6</td>\n",
       "      <td>0</td>\n",
       "      <td>0</td>\n",
       "      <td>1</td>\n",
       "      <td>1</td>\n",
       "      <td>0</td>\n",
       "      <td>0</td>\n",
       "    </tr>\n",
       "    <tr>\n",
       "      <th>460317</th>\n",
       "      <td>10</td>\n",
       "      <td>9</td>\n",
       "      <td>8</td>\n",
       "      <td>2</td>\n",
       "      <td>0</td>\n",
       "      <td>1</td>\n",
       "      <td>0</td>\n",
       "      <td>1</td>\n",
       "      <td>0</td>\n",
       "      <td>0</td>\n",
       "    </tr>\n",
       "    <tr>\n",
       "      <th>1198467</th>\n",
       "      <td>3</td>\n",
       "      <td>18</td>\n",
       "      <td>13</td>\n",
       "      <td>1</td>\n",
       "      <td>0</td>\n",
       "      <td>1</td>\n",
       "      <td>0</td>\n",
       "      <td>1</td>\n",
       "      <td>0</td>\n",
       "      <td>0</td>\n",
       "    </tr>\n",
       "    <tr>\n",
       "      <th>602664</th>\n",
       "      <td>11</td>\n",
       "      <td>7</td>\n",
       "      <td>8</td>\n",
       "      <td>3</td>\n",
       "      <td>0</td>\n",
       "      <td>0</td>\n",
       "      <td>1</td>\n",
       "      <td>1</td>\n",
       "      <td>0</td>\n",
       "      <td>0</td>\n",
       "    </tr>\n",
       "  </tbody>\n",
       "</table>\n",
       "</div>"
      ],
      "text/plain": [
       "         MON  DAY  HR  WK  CALL_TYPE_A  CALL_TYPE_B  CALL_TYPE_C  DAY_TYPE_A  \\\n",
       "288397     9    5   6   3            1            0            0           1   \n",
       "221113     8   18   9   6            0            0            1           1   \n",
       "460317    10    9   8   2            0            1            0           1   \n",
       "1198467    3   18  13   1            0            1            0           1   \n",
       "602664    11    7   8   3            0            0            1           1   \n",
       "\n",
       "         DAY_TYPE_B  DAY_TYPE_C  \n",
       "288397            0           0  \n",
       "221113            0           0  \n",
       "460317            0           0  \n",
       "1198467           0           0  \n",
       "602664            0           0  "
      ]
     },
     "execution_count": 9,
     "metadata": {},
     "output_type": "execute_result"
    }
   ],
   "source": [
    "df_sample.head()"
   ]
  },
  {
   "cell_type": "code",
   "execution_count": 10,
   "id": "f5616fd7",
   "metadata": {},
   "outputs": [],
   "source": [
    "features = [df_sample.iloc[i].values for i in range(len(df_sample))]"
   ]
  },
  {
   "cell_type": "code",
   "execution_count": 11,
   "id": "73000dd1",
   "metadata": {},
   "outputs": [],
   "source": [
    "x_train = torch.tensor(np.array(features), dtype = torch.float).to(device)\n",
    "y_train = torch.tensor(np.array(df_len.values), dtype = torch.float).to(device)\n",
    "train_data = list(zip(x_train, y_train))"
   ]
  },
  {
   "cell_type": "code",
   "execution_count": 12,
   "id": "0e4265b2",
   "metadata": {},
   "outputs": [
    {
     "name": "stdout",
     "output_type": "stream",
     "text": [
      "342132\n"
     ]
    }
   ],
   "source": [
    "print(len(train_data))"
   ]
  },
  {
   "cell_type": "code",
   "execution_count": 13,
   "id": "3184752f",
   "metadata": {},
   "outputs": [],
   "source": [
    "learning_rate = 1e-5"
   ]
  },
  {
   "cell_type": "code",
   "execution_count": 18,
   "id": "bce3d437",
   "metadata": {},
   "outputs": [],
   "source": [
    "model = torch.nn.Sequential(\n",
    "    torch.nn.Linear(10, 256),\n",
    "    torch.nn.ReLU(),\n",
    "    torch.nn.Linear(256, 256),\n",
    "    torch.nn.ReLU(),\n",
    "    torch.nn.Linear(256, 256),\n",
    "    torch.nn.ReLU(),\n",
    "    torch.nn.Linear(256, 256),\n",
    "    torch.nn.ReLU(),\n",
    "    torch.nn.Linear(256, 1),\n",
    ").to(device)"
   ]
  },
  {
   "cell_type": "code",
   "execution_count": 19,
   "id": "1d1de775",
   "metadata": {},
   "outputs": [],
   "source": [
    "loss_fn = torch.nn.MSELoss().to(device)\n",
    "#optimizer = torch.optim.Adam(model.parameters(), lr = learning_rate)\n",
    "optimizer = torch.optim.SGD(model.parameters(), lr = learning_rate)"
   ]
  },
  {
   "cell_type": "code",
   "execution_count": 20,
   "id": "7a3846c6",
   "metadata": {},
   "outputs": [],
   "source": [
    "def train_epoch(train_data, model, optimizer, loss_fn):\n",
    "    losses = []\n",
    "    # get a batch of training data\n",
    "    for x, y in tqdm(train_data):\n",
    "        # make predictions for this batch\n",
    "        y_pred = model(x)\n",
    "        \n",
    "        # Compute the RSME loss\n",
    "        loss = torch.sqrt(loss_fn(y_pred, y))\n",
    "        \n",
    "        # Backpropagation\n",
    "        # zero out the gradients so that it will not accumulate through each iteration\n",
    "        optimizer.zero_grad()\n",
    "        \n",
    "        # Compute the gradents with the backward call (backprop)\n",
    "        loss.backward()\n",
    "        \n",
    "        # Update weight using gradient descent \n",
    "        optimizer.step()\n",
    "        \n",
    "        losses.append(loss.item())\n",
    "\n",
    "    return np.mean(losses)\n",
    "\n",
    "def eval_epoch(valid_loader, model, loss_function):\n",
    "    total = 0\n",
    "    correct = 0\n",
    "    preds = []\n",
    "    trues = []\n",
    "    with torch.no_grad(): \n",
    "        for x, t in valid_loader:\n",
    "            # Compute prediction\n",
    "            y = model(x)\n",
    "            \n",
    "            total += 1\n",
    "            correct += ((y <= t+10) and (y >= t-10))\n",
    "            #trues.append(t)\n",
    "            preds.append(y)\n",
    "            \n",
    "    return float(correct/total*100), preds"
   ]
  },
  {
   "cell_type": "code",
   "execution_count": 21,
   "id": "55d5e352",
   "metadata": {
    "scrolled": true
   },
   "outputs": [
    {
     "name": "stderr",
     "output_type": "stream",
     "text": [
      "100%|██████████| 342132/342132 [08:18<00:00, 685.76it/s]\n"
     ]
    },
    {
     "name": "stdout",
     "output_type": "stream",
     "text": [
      "Epoch: 1, Train Loss: 334.1468, Train Accuracy 0.0000%\n",
      "\n"
     ]
    },
    {
     "name": "stderr",
     "output_type": "stream",
     "text": [
      "100%|██████████| 342132/342132 [08:21<00:00, 681.93it/s]\n"
     ]
    },
    {
     "name": "stdout",
     "output_type": "stream",
     "text": [
      "Epoch: 2, Train Loss: 317.6744, Train Accuracy 1.0000%\n",
      "\n"
     ]
    },
    {
     "name": "stderr",
     "output_type": "stream",
     "text": [
      "100%|██████████| 342132/342132 [08:18<00:00, 686.53it/s]\n"
     ]
    },
    {
     "name": "stdout",
     "output_type": "stream",
     "text": [
      "Epoch: 3, Train Loss: 316.9215, Train Accuracy 3.0000%\n",
      "\n"
     ]
    },
    {
     "name": "stderr",
     "output_type": "stream",
     "text": [
      "100%|██████████| 342132/342132 [08:17<00:00, 687.74it/s]\n"
     ]
    },
    {
     "name": "stdout",
     "output_type": "stream",
     "text": [
      "Epoch: 4, Train Loss: 316.6203, Train Accuracy 2.0000%\n",
      "\n"
     ]
    },
    {
     "name": "stderr",
     "output_type": "stream",
     "text": [
      "100%|██████████| 342132/342132 [08:40<00:00, 657.43it/s]\n"
     ]
    },
    {
     "name": "stdout",
     "output_type": "stream",
     "text": [
      "Epoch: 5, Train Loss: 316.4255, Train Accuracy 2.0000%\n",
      "\n"
     ]
    }
   ],
   "source": [
    "total_epochs = 5\n",
    "losses = []\n",
    "train_accs, valid_accs = [], []\n",
    "max_acc = 0\n",
    "for epoch in range(total_epochs):\n",
    "    \n",
    "    model.train() # gradient tracking is on\n",
    "    \n",
    "    train_loss = train_epoch(train_data, model, optimizer, loss_fn)\n",
    "    \n",
    "    losses.append(train_loss)\n",
    "    \n",
    "    model.eval()\n",
    "    train_acc, train_pred = eval_epoch(train_data[:100], model, loss_fn)\n",
    "    print(f\"Epoch: {epoch+1}, Train Loss: {train_loss:>0.4f}, Train Accuracy {train_acc:>0.4f}%\\n\")"
   ]
  },
  {
   "cell_type": "code",
   "execution_count": 25,
   "id": "02de68d0",
   "metadata": {},
   "outputs": [],
   "source": [
    "torch.save(model, \"MLP\")"
   ]
  },
  {
   "cell_type": "code",
   "execution_count": 26,
   "id": "0e48e93b",
   "metadata": {
    "scrolled": true
   },
   "outputs": [],
   "source": [
    "df_test = pd.read_csv(\"processed_test.csv\")\n",
    "df_out = df_test[\"TRIP_ID\"].to_frame()\n",
    "df_test = df_test.drop(columns=[\"Unnamed: 0\", \"TRIP_ID\", \"ORIGIN_CALL\", \"ORIGIN_STAND\", \"TAXI_ID\", \"TIMESTAMP\", \"YR_2014\", \"YR\"])"
   ]
  },
  {
   "cell_type": "code",
   "execution_count": 27,
   "id": "6f3b465a",
   "metadata": {},
   "outputs": [],
   "source": [
    "x_test = [torch.tensor(df_test.iloc[i].values,dtype=torch.float).to(device) for i in range(len(df_test))]"
   ]
  },
  {
   "cell_type": "code",
   "execution_count": 24,
   "id": "09d5275d",
   "metadata": {},
   "outputs": [],
   "source": [
    "model.eval()\n",
    "with torch.no_grad(): \n",
    "    df_out[\"TRAVEL_TIME\"] = [float(model(x).cpu()) for x in x_test]\n",
    "df_out.head()\n",
    "# # mean(716.43) -> 792.73593\n",
    "# # median(600) -> 784.74219\n",
    "df_out.to_csv(\"my_pred.csv\", index=None)"
   ]
  },
  {
   "cell_type": "code",
   "execution_count": null,
   "id": "b705e69c",
   "metadata": {},
   "outputs": [],
   "source": [
    "#TODO Implement accuracy or smthing for training\n",
    "#Do something with validation (make a validation set)"
   ]
  },
  {
   "cell_type": "code",
   "execution_count": null,
   "id": "2b5e4175",
   "metadata": {},
   "outputs": [],
   "source": []
  },
  {
   "cell_type": "code",
   "execution_count": null,
   "id": "0a66f427",
   "metadata": {},
   "outputs": [],
   "source": []
  }
 ],
 "metadata": {
  "kernelspec": {
   "display_name": "Python 3 (clean)",
   "language": "python",
   "name": "python3_clean"
  },
  "language_info": {
   "codemirror_mode": {
    "name": "ipython",
    "version": 3
   },
   "file_extension": ".py",
   "mimetype": "text/x-python",
   "name": "python",
   "nbconvert_exporter": "python",
   "pygments_lexer": "ipython3",
   "version": "3.9.5"
  }
 },
 "nbformat": 4,
 "nbformat_minor": 5
}
