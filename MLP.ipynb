{
 "cells": [
  {
   "cell_type": "code",
   "execution_count": 5,
   "id": "d4c41c77",
   "metadata": {},
   "outputs": [
    {
     "name": "stdout",
     "output_type": "stream",
     "text": [
      "Requirement already satisfied: tqdm in /opt/conda/lib/python3.9/site-packages (4.61.2)\r\n"
     ]
    }
   ],
   "source": [
    "import numpy as np, pandas as pd\n",
    "import matplotlib.pyplot as plt\n",
    "import torch\n",
    "!pip install tqdm\n",
    "from tqdm import tqdm\n",
    "import torch.nn as nn"
   ]
  },
  {
   "cell_type": "code",
   "execution_count": 6,
   "id": "ae7cd9bf",
   "metadata": {},
   "outputs": [],
   "source": [
    "device = torch.device(\"cuda\" if torch.cuda.is_available() else \"cpu\")"
   ]
  },
  {
   "cell_type": "code",
   "execution_count": 7,
   "id": "873099af",
   "metadata": {},
   "outputs": [],
   "source": [
    "df = pd.read_csv(\"processed_train.csv\")"
   ]
  },
  {
   "cell_type": "code",
   "execution_count": 8,
   "id": "2c70c017",
   "metadata": {
    "scrolled": true
   },
   "outputs": [
    {
     "data": {
      "text/html": [
       "<div>\n",
       "<style scoped>\n",
       "    .dataframe tbody tr th:only-of-type {\n",
       "        vertical-align: middle;\n",
       "    }\n",
       "\n",
       "    .dataframe tbody tr th {\n",
       "        vertical-align: top;\n",
       "    }\n",
       "\n",
       "    .dataframe thead th {\n",
       "        text-align: right;\n",
       "    }\n",
       "</style>\n",
       "<table border=\"1\" class=\"dataframe\">\n",
       "  <thead>\n",
       "    <tr style=\"text-align: right;\">\n",
       "      <th></th>\n",
       "      <th>Unnamed: 0</th>\n",
       "      <th>ORIGIN_STAND</th>\n",
       "      <th>TAXI_ID</th>\n",
       "      <th>LEN</th>\n",
       "      <th>MON</th>\n",
       "      <th>DAY</th>\n",
       "      <th>HR</th>\n",
       "      <th>WK</th>\n",
       "      <th>CALL_TYPE_A</th>\n",
       "      <th>CALL_TYPE_B</th>\n",
       "      <th>CALL_TYPE_C</th>\n",
       "      <th>DAY_TYPE_A</th>\n",
       "      <th>DAY_TYPE_B</th>\n",
       "      <th>DAY_TYPE_C</th>\n",
       "    </tr>\n",
       "  </thead>\n",
       "  <tbody>\n",
       "    <tr>\n",
       "      <th>0</th>\n",
       "      <td>0</td>\n",
       "      <td>0.0</td>\n",
       "      <td>366</td>\n",
       "      <td>330</td>\n",
       "      <td>7</td>\n",
       "      <td>1</td>\n",
       "      <td>0</td>\n",
       "      <td>0</td>\n",
       "      <td>0</td>\n",
       "      <td>0</td>\n",
       "      <td>1</td>\n",
       "      <td>1</td>\n",
       "      <td>0</td>\n",
       "      <td>0</td>\n",
       "    </tr>\n",
       "    <tr>\n",
       "      <th>1</th>\n",
       "      <td>1</td>\n",
       "      <td>7.0</td>\n",
       "      <td>370</td>\n",
       "      <td>270</td>\n",
       "      <td>7</td>\n",
       "      <td>1</td>\n",
       "      <td>0</td>\n",
       "      <td>0</td>\n",
       "      <td>0</td>\n",
       "      <td>1</td>\n",
       "      <td>0</td>\n",
       "      <td>1</td>\n",
       "      <td>0</td>\n",
       "      <td>0</td>\n",
       "    </tr>\n",
       "    <tr>\n",
       "      <th>2</th>\n",
       "      <td>2</td>\n",
       "      <td>0.0</td>\n",
       "      <td>203</td>\n",
       "      <td>960</td>\n",
       "      <td>7</td>\n",
       "      <td>1</td>\n",
       "      <td>0</td>\n",
       "      <td>0</td>\n",
       "      <td>0</td>\n",
       "      <td>0</td>\n",
       "      <td>1</td>\n",
       "      <td>1</td>\n",
       "      <td>0</td>\n",
       "      <td>0</td>\n",
       "    </tr>\n",
       "    <tr>\n",
       "      <th>3</th>\n",
       "      <td>3</td>\n",
       "      <td>0.0</td>\n",
       "      <td>329</td>\n",
       "      <td>630</td>\n",
       "      <td>7</td>\n",
       "      <td>1</td>\n",
       "      <td>0</td>\n",
       "      <td>0</td>\n",
       "      <td>0</td>\n",
       "      <td>0</td>\n",
       "      <td>1</td>\n",
       "      <td>1</td>\n",
       "      <td>0</td>\n",
       "      <td>0</td>\n",
       "    </tr>\n",
       "    <tr>\n",
       "      <th>4</th>\n",
       "      <td>4</td>\n",
       "      <td>0.0</td>\n",
       "      <td>216</td>\n",
       "      <td>420</td>\n",
       "      <td>7</td>\n",
       "      <td>1</td>\n",
       "      <td>0</td>\n",
       "      <td>0</td>\n",
       "      <td>0</td>\n",
       "      <td>0</td>\n",
       "      <td>1</td>\n",
       "      <td>1</td>\n",
       "      <td>0</td>\n",
       "      <td>0</td>\n",
       "    </tr>\n",
       "  </tbody>\n",
       "</table>\n",
       "</div>"
      ],
      "text/plain": [
       "   Unnamed: 0  ORIGIN_STAND  TAXI_ID  LEN  MON  DAY  HR  WK  CALL_TYPE_A  \\\n",
       "0           0           0.0      366  330    7    1   0   0            0   \n",
       "1           1           7.0      370  270    7    1   0   0            0   \n",
       "2           2           0.0      203  960    7    1   0   0            0   \n",
       "3           3           0.0      329  630    7    1   0   0            0   \n",
       "4           4           0.0      216  420    7    1   0   0            0   \n",
       "\n",
       "   CALL_TYPE_B  CALL_TYPE_C  DAY_TYPE_A  DAY_TYPE_B  DAY_TYPE_C  \n",
       "0            0            1           1           0           0  \n",
       "1            1            0           1           0           0  \n",
       "2            0            1           1           0           0  \n",
       "3            0            1           1           0           0  \n",
       "4            0            1           1           0           0  "
      ]
     },
     "execution_count": 8,
     "metadata": {},
     "output_type": "execute_result"
    }
   ],
   "source": [
    "df.head()"
   ]
  },
  {
   "cell_type": "code",
   "execution_count": 9,
   "id": "ec6425c9",
   "metadata": {},
   "outputs": [],
   "source": [
    "#Removing these for this MLP model only\n",
    "df = df.drop(columns=[\"Unnamed: 0\"])\n",
    "#df = df.drop(columns=[\"Unnamed: 0\", \"TRIP_ID\", \"ORIGIN_CALL\", \"ORIGIN_STAND\", \"TAXI_ID\", \"TIMESTAMP\"])\n",
    "#df = df.drop(columns=[\"Unnamed: 0\", \"ORIGIN_CALL\", \"ORIGIN_STAND\", \"TAXI_ID\", \"TIMESTAMP\", \"YR_2014\", \"YR\"])"
   ]
  },
  {
   "cell_type": "code",
   "execution_count": 10,
   "id": "6f2f73b2",
   "metadata": {},
   "outputs": [],
   "source": [
    "df_sample = df#.sample(frac=0.5)"
   ]
  },
  {
   "cell_type": "code",
   "execution_count": 11,
   "id": "2dacd3a5",
   "metadata": {},
   "outputs": [],
   "source": [
    "df_len = df_sample[\"LEN\"]\n",
    "df_sample = df_sample.drop(columns=[\"LEN\"])"
   ]
  },
  {
   "cell_type": "code",
   "execution_count": 12,
   "id": "64e3cfb0",
   "metadata": {},
   "outputs": [
    {
     "data": {
      "text/plain": [
       "1656486"
      ]
     },
     "execution_count": 12,
     "metadata": {},
     "output_type": "execute_result"
    }
   ],
   "source": [
    "len(df_sample)"
   ]
  },
  {
   "cell_type": "code",
   "execution_count": 13,
   "id": "9929e834",
   "metadata": {},
   "outputs": [
    {
     "data": {
      "text/html": [
       "<div>\n",
       "<style scoped>\n",
       "    .dataframe tbody tr th:only-of-type {\n",
       "        vertical-align: middle;\n",
       "    }\n",
       "\n",
       "    .dataframe tbody tr th {\n",
       "        vertical-align: top;\n",
       "    }\n",
       "\n",
       "    .dataframe thead th {\n",
       "        text-align: right;\n",
       "    }\n",
       "</style>\n",
       "<table border=\"1\" class=\"dataframe\">\n",
       "  <thead>\n",
       "    <tr style=\"text-align: right;\">\n",
       "      <th></th>\n",
       "      <th>ORIGIN_STAND</th>\n",
       "      <th>TAXI_ID</th>\n",
       "      <th>MON</th>\n",
       "      <th>DAY</th>\n",
       "      <th>HR</th>\n",
       "      <th>WK</th>\n",
       "      <th>CALL_TYPE_A</th>\n",
       "      <th>CALL_TYPE_B</th>\n",
       "      <th>CALL_TYPE_C</th>\n",
       "      <th>DAY_TYPE_A</th>\n",
       "      <th>DAY_TYPE_B</th>\n",
       "      <th>DAY_TYPE_C</th>\n",
       "    </tr>\n",
       "  </thead>\n",
       "  <tbody>\n",
       "    <tr>\n",
       "      <th>0</th>\n",
       "      <td>0.0</td>\n",
       "      <td>366</td>\n",
       "      <td>7</td>\n",
       "      <td>1</td>\n",
       "      <td>0</td>\n",
       "      <td>0</td>\n",
       "      <td>0</td>\n",
       "      <td>0</td>\n",
       "      <td>1</td>\n",
       "      <td>1</td>\n",
       "      <td>0</td>\n",
       "      <td>0</td>\n",
       "    </tr>\n",
       "    <tr>\n",
       "      <th>1</th>\n",
       "      <td>7.0</td>\n",
       "      <td>370</td>\n",
       "      <td>7</td>\n",
       "      <td>1</td>\n",
       "      <td>0</td>\n",
       "      <td>0</td>\n",
       "      <td>0</td>\n",
       "      <td>1</td>\n",
       "      <td>0</td>\n",
       "      <td>1</td>\n",
       "      <td>0</td>\n",
       "      <td>0</td>\n",
       "    </tr>\n",
       "    <tr>\n",
       "      <th>2</th>\n",
       "      <td>0.0</td>\n",
       "      <td>203</td>\n",
       "      <td>7</td>\n",
       "      <td>1</td>\n",
       "      <td>0</td>\n",
       "      <td>0</td>\n",
       "      <td>0</td>\n",
       "      <td>0</td>\n",
       "      <td>1</td>\n",
       "      <td>1</td>\n",
       "      <td>0</td>\n",
       "      <td>0</td>\n",
       "    </tr>\n",
       "    <tr>\n",
       "      <th>3</th>\n",
       "      <td>0.0</td>\n",
       "      <td>329</td>\n",
       "      <td>7</td>\n",
       "      <td>1</td>\n",
       "      <td>0</td>\n",
       "      <td>0</td>\n",
       "      <td>0</td>\n",
       "      <td>0</td>\n",
       "      <td>1</td>\n",
       "      <td>1</td>\n",
       "      <td>0</td>\n",
       "      <td>0</td>\n",
       "    </tr>\n",
       "    <tr>\n",
       "      <th>4</th>\n",
       "      <td>0.0</td>\n",
       "      <td>216</td>\n",
       "      <td>7</td>\n",
       "      <td>1</td>\n",
       "      <td>0</td>\n",
       "      <td>0</td>\n",
       "      <td>0</td>\n",
       "      <td>0</td>\n",
       "      <td>1</td>\n",
       "      <td>1</td>\n",
       "      <td>0</td>\n",
       "      <td>0</td>\n",
       "    </tr>\n",
       "  </tbody>\n",
       "</table>\n",
       "</div>"
      ],
      "text/plain": [
       "   ORIGIN_STAND  TAXI_ID  MON  DAY  HR  WK  CALL_TYPE_A  CALL_TYPE_B  \\\n",
       "0           0.0      366    7    1   0   0            0            0   \n",
       "1           7.0      370    7    1   0   0            0            1   \n",
       "2           0.0      203    7    1   0   0            0            0   \n",
       "3           0.0      329    7    1   0   0            0            0   \n",
       "4           0.0      216    7    1   0   0            0            0   \n",
       "\n",
       "   CALL_TYPE_C  DAY_TYPE_A  DAY_TYPE_B  DAY_TYPE_C  \n",
       "0            1           1           0           0  \n",
       "1            0           1           0           0  \n",
       "2            1           1           0           0  \n",
       "3            1           1           0           0  \n",
       "4            1           1           0           0  "
      ]
     },
     "execution_count": 13,
     "metadata": {},
     "output_type": "execute_result"
    }
   ],
   "source": [
    "df_sample.head()"
   ]
  },
  {
   "cell_type": "code",
   "execution_count": 14,
   "id": "f5616fd7",
   "metadata": {},
   "outputs": [],
   "source": [
    "features = [df_sample.iloc[i].values for i in range(len(df_sample))]"
   ]
  },
  {
   "cell_type": "code",
   "execution_count": 11,
   "id": "73000dd1",
   "metadata": {},
   "outputs": [],
   "source": [
    "x = torch.tensor(np.array(features), dtype = torch.float).to(device)\n",
    "y = torch.tensor(np.array(df_len.values), dtype = torch.float).to(device)\n",
    "\n",
    "data = list(zip(x, y))\n",
    "train_size = int(0.8 * len(data))\n",
    "val_size = int(0.1 * len(data))\n",
    "test_size = len(data) - train_size - val_size\n",
    "\n",
    "train_data, test_data, val_data = torch.utils.data.random_split(data, [train_size, test_size, val_size])"
   ]
  },
  {
   "cell_type": "code",
   "execution_count": 12,
   "id": "2ff4d9cd",
   "metadata": {},
   "outputs": [],
   "source": [
    "batch_size = 15\n",
    "train_loader = torch.utils.data.DataLoader(train_data, batch_size=batch_size, shuffle = True)\n",
    "valid_loader = torch.utils.data.DataLoader(val_data, batch_size=batch_size, shuffle = False)\n",
    "test_loader = torch.utils.data.DataLoader(test_data, batch_size=batch_size, shuffle = False)\n",
    "# train_loader = train_data\n",
    "# valid_loader = val_data\n",
    "# test_loader = test_data"
   ]
  },
  {
   "cell_type": "code",
   "execution_count": 13,
   "id": "0e4265b2",
   "metadata": {},
   "outputs": [
    {
     "data": {
      "text/plain": [
       "(1368528, 171066, 171066)"
      ]
     },
     "execution_count": 13,
     "metadata": {},
     "output_type": "execute_result"
    }
   ],
   "source": [
    "len(train_data), len(test_data), len(val_data)"
   ]
  },
  {
   "cell_type": "code",
   "execution_count": 14,
   "id": "3184752f",
   "metadata": {},
   "outputs": [],
   "source": [
    "learning_rate = 1e-3"
   ]
  },
  {
   "cell_type": "code",
   "execution_count": 15,
   "id": "bce3d437",
   "metadata": {},
   "outputs": [],
   "source": [
    "model = torch.nn.Sequential(\n",
    "    torch.nn.Linear(12, 1024),\n",
    "    torch.nn.ReLU(),\n",
    "    torch.nn.Linear(1024, 64),\n",
    "    torch.nn.ReLU(),\n",
    "#     torch.nn.Linear(1024, 1024),\n",
    "#     torch.nn.ReLU(),\n",
    "#     torch.nn.Linear(1024, 1024),\n",
    "#     torch.nn.ReLU(),\n",
    "#     torch.nn.Linear(1024, 1024),\n",
    "    #torch.nn.ReLU(),\n",
    "    torch.nn.Linear(64, 1),\n",
    ").to(device)"
   ]
  },
  {
   "cell_type": "code",
   "execution_count": 16,
   "id": "1d1de775",
   "metadata": {},
   "outputs": [],
   "source": [
    "loss_fn = torch.nn.MSELoss().to(device)\n",
    "#optimizer = torch.optim.Adam(model.parameters(), lr = learning_rate)\n",
    "optimizer = torch.optim.SGD(model.parameters(), lr = learning_rate)\n",
    "#optimizer = torch.optim.Adagrad(model.parameters())\n",
    "#scheduler = torch.optim.lr_scheduler.StepLR(optimizer, step_size=2, gamma=0.1)"
   ]
  },
  {
   "cell_type": "code",
   "execution_count": 17,
   "id": "7a3846c6",
   "metadata": {},
   "outputs": [],
   "source": [
    "from tqdm import trange\n",
    "def train_epoch(train_data, model, optimizer, loss_fn, batch_size):\n",
    "    losses = []\n",
    "    train_len = len(train_data)\n",
    "\n",
    "    # get a batch of training data\n",
    "    for x, y in tqdm(train_data):\n",
    "        # make predictions for this batch\n",
    "        y_pred = model(x)\n",
    "        \n",
    "        # Compute the RSME loss\n",
    "        loss = torch.sqrt(loss_fn(y_pred, y))\n",
    "        \n",
    "        # Backpropagation\n",
    "        # zero out the gradients so that it will not accumulate through each iteration\n",
    "        optimizer.zero_grad()\n",
    "        \n",
    "        # Compute the gradents with the backward call (backprop)\n",
    "        loss.backward()\n",
    "        \n",
    "        # Update weight using gradient descent \n",
    "        optimizer.step()\n",
    "        \n",
    "        losses.append(loss.item())\n",
    "\n",
    "    return np.mean(losses)\n",
    "\n",
    "def eval_epoch(valid_loader, model, loss_function):\n",
    "    total = 0\n",
    "    correct = 0\n",
    "    preds = []\n",
    "    trues = []\n",
    "    losses = []\n",
    "    with torch.no_grad(): \n",
    "        for x, y in tqdm(valid_loader):\n",
    "            # Compute prediction\n",
    "            y_pred = model(x)\n",
    "            \n",
    "            loss = torch.sqrt(loss_fn(y_pred, y))\n",
    "            losses.append(loss.item())\n",
    "#             total += 1\n",
    "#             correct += ((y <= t+10) and (y >= t-10))\n",
    "#             #trues.append(t)\n",
    "#             preds.append(y)\n",
    "            \n",
    "    return np.mean(losses)#float(correct/total*100), preds\n",
    "train_losses = []\n",
    "val_losses = []"
   ]
  },
  {
   "cell_type": "code",
   "execution_count": 18,
   "id": "55d5e352",
   "metadata": {
    "scrolled": true
   },
   "outputs": [
    {
     "name": "stdout",
     "output_type": "stream",
     "text": [
      "Training on 1368528 data with batch size of 3!\n"
     ]
    },
    {
     "name": "stderr",
     "output_type": "stream",
     "text": [
      "  0%|          | 0/456176 [00:00<?, ?it/s]/opt/conda/lib/python3.9/site-packages/torch/nn/modules/loss.py:528: UserWarning: Using a target size (torch.Size([3])) that is different to the input size (torch.Size([3, 1])). This will likely lead to incorrect results due to broadcasting. Please ensure they have the same size.\n",
      "  return F.mse_loss(input, target, reduction=self.reduction)\n",
      "100%|██████████| 456176/456176 [24:16<00:00, 313.16it/s]\n",
      "100%|██████████| 57022/57022 [00:36<00:00, 1579.02it/s]\n"
     ]
    },
    {
     "name": "stdout",
     "output_type": "stream",
     "text": [
      "Epoch: 1, Train Loss: 419.9147, Validation Loss 418.2424\n",
      "\n"
     ]
    },
    {
     "name": "stderr",
     "output_type": "stream",
     "text": [
      "100%|██████████| 456176/456176 [23:54<00:00, 317.90it/s]\n",
      "100%|██████████| 57022/57022 [00:34<00:00, 1641.27it/s]\n"
     ]
    },
    {
     "name": "stdout",
     "output_type": "stream",
     "text": [
      "Epoch: 2, Train Loss: 417.6164, Validation Loss 418.4354\n",
      "\n"
     ]
    },
    {
     "name": "stderr",
     "output_type": "stream",
     "text": [
      "100%|██████████| 456176/456176 [25:15<00:00, 300.95it/s]\n",
      "100%|██████████| 57022/57022 [00:37<00:00, 1528.44it/s]\n"
     ]
    },
    {
     "name": "stdout",
     "output_type": "stream",
     "text": [
      "Epoch: 3, Train Loss: 416.8979, Validation Loss 417.5487\n",
      "\n"
     ]
    },
    {
     "name": "stderr",
     "output_type": "stream",
     "text": [
      "100%|██████████| 456176/456176 [25:36<00:00, 296.99it/s]\n",
      "100%|██████████| 57022/57022 [00:36<00:00, 1567.43it/s]\n"
     ]
    },
    {
     "name": "stdout",
     "output_type": "stream",
     "text": [
      "Epoch: 4, Train Loss: 416.8533, Validation Loss 417.5425\n",
      "\n"
     ]
    },
    {
     "name": "stderr",
     "output_type": "stream",
     "text": [
      "100%|██████████| 456176/456176 [25:37<00:00, 296.67it/s]\n",
      "100%|██████████| 57022/57022 [00:35<00:00, 1600.11it/s]"
     ]
    },
    {
     "name": "stdout",
     "output_type": "stream",
     "text": [
      "Epoch: 5, Train Loss: 416.9163, Validation Loss 417.5225\n",
      "\n"
     ]
    },
    {
     "name": "stderr",
     "output_type": "stream",
     "text": [
      "\n"
     ]
    }
   ],
   "source": [
    "total_epochs = 5\n",
    "train_accs, valid_accs = [], []\n",
    "max_acc = 0\n",
    "val_loss = 0\n",
    "print(f\"Training on {len(train_data)} data with batch size of {batch_size}!\")\n",
    "for epoch in range(total_epochs):\n",
    "    \n",
    "    model.train() # gradient tracking is on\n",
    "    \n",
    "    train_loss = train_epoch(train_loader, model, optimizer, loss_fn, batch_size)\n",
    "    \n",
    "    train_losses.append(train_loss)\n",
    "    \n",
    "    model.eval()\n",
    "    val_loss = eval_epoch(valid_loader, model, loss_fn)\n",
    "    val_losses.append(val_loss)\n",
    "    scheduler.step()\n",
    "    print(f\"Epoch: {epoch+1}, Train Loss: {train_loss:>0.4f}, Validation Loss {val_loss:>0.4f}\\n\")"
   ]
  },
  {
   "cell_type": "code",
   "execution_count": 19,
   "id": "1d16bc41",
   "metadata": {},
   "outputs": [
    {
     "name": "stderr",
     "output_type": "stream",
     "text": [
      "100%|██████████| 57022/57022 [00:35<00:00, 1585.50it/s]\n"
     ]
    },
    {
     "data": {
      "text/plain": [
       "421.71661150000983"
      ]
     },
     "execution_count": 19,
     "metadata": {},
     "output_type": "execute_result"
    }
   ],
   "source": [
    "model.eval()\n",
    "eval_epoch(test_loader, model, loss_fn)"
   ]
  },
  {
   "cell_type": "code",
   "execution_count": 20,
   "id": "65ca158a",
   "metadata": {
    "scrolled": true
   },
   "outputs": [
    {
     "data": {
      "image/png": "[encoded data removed]",
      "text/plain": [
       "<Figure size 432x288 with 1 Axes>"
      ]
     },
     "metadata": {
      "needs_background": "light"
     },
     "output_type": "display_data"
    }
   ],
   "source": [
    "import numpy as np\n",
    "import matplotlib.pyplot as plt\n",
    "plt.figure()\n",
    "e = len(train_losses)\n",
    "x_axis = np.arange(1, e + 1, 1)\n",
    "plt.plot(x_axis, train_losses, label = \"Train\")\n",
    "plt.plot(x_axis, val_losses, label = \"Validation\")\n",
    "plt.legend()\n",
    "plt.title('Training losses')\n",
    "plt.xlabel(\"Epochs\")\n",
    "plt.show()"
   ]
  },
  {
   "cell_type": "code",
   "execution_count": 21,
   "id": "3768d285",
   "metadata": {
    "scrolled": false
   },
   "outputs": [
    {
     "data": {
      "text/html": [
       "<div>\n",
       "<style scoped>\n",
       "    .dataframe tbody tr th:only-of-type {\n",
       "        vertical-align: middle;\n",
       "    }\n",
       "\n",
       "    .dataframe tbody tr th {\n",
       "        vertical-align: top;\n",
       "    }\n",
       "\n",
       "    .dataframe thead th {\n",
       "        text-align: right;\n",
       "    }\n",
       "</style>\n",
       "<table border=\"1\" class=\"dataframe\">\n",
       "  <thead>\n",
       "    <tr style=\"text-align: right;\">\n",
       "      <th></th>\n",
       "      <th>ORIGIN_STAND</th>\n",
       "      <th>MON</th>\n",
       "      <th>DAY</th>\n",
       "      <th>HR</th>\n",
       "      <th>WK</th>\n",
       "      <th>CALL_TYPE_A</th>\n",
       "      <th>CALL_TYPE_B</th>\n",
       "      <th>CALL_TYPE_C</th>\n",
       "      <th>DAY_TYPE_A</th>\n",
       "      <th>DAY_TYPE_B</th>\n",
       "      <th>DAY_TYPE_C</th>\n",
       "    </tr>\n",
       "  </thead>\n",
       "  <tbody>\n",
       "    <tr>\n",
       "      <th>0</th>\n",
       "      <td>0.0</td>\n",
       "      <td>7</td>\n",
       "      <td>1</td>\n",
       "      <td>0</td>\n",
       "      <td>0</td>\n",
       "      <td>0</td>\n",
       "      <td>0</td>\n",
       "      <td>1</td>\n",
       "      <td>1</td>\n",
       "      <td>0</td>\n",
       "      <td>0</td>\n",
       "    </tr>\n",
       "    <tr>\n",
       "      <th>1</th>\n",
       "      <td>7.0</td>\n",
       "      <td>7</td>\n",
       "      <td>1</td>\n",
       "      <td>0</td>\n",
       "      <td>0</td>\n",
       "      <td>0</td>\n",
       "      <td>1</td>\n",
       "      <td>0</td>\n",
       "      <td>1</td>\n",
       "      <td>0</td>\n",
       "      <td>0</td>\n",
       "    </tr>\n",
       "    <tr>\n",
       "      <th>2</th>\n",
       "      <td>0.0</td>\n",
       "      <td>7</td>\n",
       "      <td>1</td>\n",
       "      <td>0</td>\n",
       "      <td>0</td>\n",
       "      <td>0</td>\n",
       "      <td>0</td>\n",
       "      <td>1</td>\n",
       "      <td>1</td>\n",
       "      <td>0</td>\n",
       "      <td>0</td>\n",
       "    </tr>\n",
       "    <tr>\n",
       "      <th>3</th>\n",
       "      <td>0.0</td>\n",
       "      <td>7</td>\n",
       "      <td>1</td>\n",
       "      <td>0</td>\n",
       "      <td>0</td>\n",
       "      <td>0</td>\n",
       "      <td>0</td>\n",
       "      <td>1</td>\n",
       "      <td>1</td>\n",
       "      <td>0</td>\n",
       "      <td>0</td>\n",
       "    </tr>\n",
       "    <tr>\n",
       "      <th>4</th>\n",
       "      <td>0.0</td>\n",
       "      <td>7</td>\n",
       "      <td>1</td>\n",
       "      <td>0</td>\n",
       "      <td>0</td>\n",
       "      <td>0</td>\n",
       "      <td>0</td>\n",
       "      <td>1</td>\n",
       "      <td>1</td>\n",
       "      <td>0</td>\n",
       "      <td>0</td>\n",
       "    </tr>\n",
       "  </tbody>\n",
       "</table>\n",
       "</div>"
      ],
      "text/plain": [
       "   ORIGIN_STAND  MON  DAY  HR  WK  CALL_TYPE_A  CALL_TYPE_B  CALL_TYPE_C  \\\n",
       "0           0.0    7    1   0   0            0            0            1   \n",
       "1           7.0    7    1   0   0            0            1            0   \n",
       "2           0.0    7    1   0   0            0            0            1   \n",
       "3           0.0    7    1   0   0            0            0            1   \n",
       "4           0.0    7    1   0   0            0            0            1   \n",
       "\n",
       "   DAY_TYPE_A  DAY_TYPE_B  DAY_TYPE_C  \n",
       "0           1           0           0  \n",
       "1           1           0           0  \n",
       "2           1           0           0  \n",
       "3           1           0           0  \n",
       "4           1           0           0  "
      ]
     },
     "execution_count": 21,
     "metadata": {},
     "output_type": "execute_result"
    }
   ],
   "source": [
    "df_sample.head()"
   ]
  },
  {
   "cell_type": "code",
   "execution_count": 22,
   "id": "26f51831",
   "metadata": {},
   "outputs": [],
   "source": [
    "# count = 0\n",
    "# loss_dict = {}\n",
    "# with torch.no_grad(): \n",
    "#     for index, row in df_sample.iterrows():\n",
    "#         x = torch.tensor(row.values, dtype=torch.float).to(device)\n",
    "#         y_pred = model(x)\n",
    "\n",
    "#         loss = torch.sqrt(loss_fn(y_pred, y[count]))\n",
    "#         count += 1\n",
    "\n",
    "#         loss_dict[index] = loss"
   ]
  },
  {
   "cell_type": "code",
   "execution_count": 23,
   "id": "0c305043",
   "metadata": {},
   "outputs": [],
   "source": [
    "# indexes = list(sorted(loss_dict))\n",
    "# indexes[-11:-1]"
   ]
  },
  {
   "cell_type": "code",
   "execution_count": 24,
   "id": "7ce69110",
   "metadata": {},
   "outputs": [],
   "source": [
    "df_orig = pd.read_csv(\"processed_train.csv\")"
   ]
  },
  {
   "cell_type": "code",
   "execution_count": 25,
   "id": "02de68d0",
   "metadata": {},
   "outputs": [],
   "source": [
    "torch.save(model, \"MLP4\")"
   ]
  },
  {
   "cell_type": "code",
   "execution_count": 26,
   "id": "53b158f0",
   "metadata": {},
   "outputs": [],
   "source": [
    "#model = torch.load(\"MLP2.5\")"
   ]
  },
  {
   "cell_type": "code",
   "execution_count": 27,
   "id": "0e48e93b",
   "metadata": {
    "scrolled": true
   },
   "outputs": [],
   "source": [
    "df_test = pd.read_csv(\"processed_test.csv\")\n",
    "df_out = df_test[\"TRIP_ID\"].to_frame()\n",
    "df_test = df_test.drop(columns=[\"Unnamed: 0\", \"TRIP_ID\", \"ORIGIN_CALL\", \"ORIGIN_STAND\", \"TAXI_ID\", \"TIMESTAMP\"])"
   ]
  },
  {
   "cell_type": "code",
   "execution_count": 28,
   "id": "6f3b465a",
   "metadata": {},
   "outputs": [],
   "source": [
    "x_test = [torch.tensor(df_test.iloc[i].values,dtype=torch.float).to(device) for i in range(len(df_test))]"
   ]
  },
  {
   "cell_type": "code",
   "execution_count": 29,
   "id": "09d5275d",
   "metadata": {},
   "outputs": [],
   "source": [
    "model.eval()\n",
    "with torch.no_grad(): \n",
    "    df_out[\"TRAVEL_TIME\"] = [float(model(x).cpu()) for x in x_test]\n",
    "df_out.head()\n",
    "# # mean(716.43) -> 792.73593\n",
    "# # median(600) -> 784.74219\n",
    "df_out.to_csv(\"my_pred.csv\", index=None)"
   ]
  },
  {
   "cell_type": "code",
   "execution_count": 30,
   "id": "b705e69c",
   "metadata": {},
   "outputs": [],
   "source": [
    "#TODO Implement accuracy or smthing for training\n",
    "#Do something with validation (make a validation set)"
   ]
  },
  {
   "cell_type": "code",
   "execution_count": null,
   "id": "2b5e4175",
   "metadata": {},
   "outputs": [],
   "source": []
  },
  {
   "cell_type": "code",
   "execution_count": null,
   "id": "23cec29b",
   "metadata": {},
   "outputs": [],
   "source": []
  }
 ],
 "metadata": {
  "kernelspec": {
   "display_name": "Python 3 (clean)",
   "language": "python",
   "name": "python3_clean"
  },
  "language_info": {
   "codemirror_mode": {
    "name": "ipython",
    "version": 3
   },
   "file_extension": ".py",
   "mimetype": "text/x-python",
   "name": "python",
   "nbconvert_exporter": "python",
   "pygments_lexer": "ipython3",
   "version": "3.9.5"
  }
 },
 "nbformat": 4,
 "nbformat_minor": 5
}
