{
 "cells": [
  {
   "cell_type": "code",
   "execution_count": 29,
   "id": "19fc6e9f",
   "metadata": {},
   "outputs": [],
   "source": [
    "import numpy as np, pandas as pd\n",
    "import matplotlib.pyplot as plt\n",
    "from sklearn import linear_model\n",
    "import string"
   ]
  },
  {
   "cell_type": "code",
   "execution_count": 30,
   "id": "f3c812db",
   "metadata": {},
   "outputs": [],
   "source": [
    "all_chars = string.printable"
   ]
  },
  {
   "cell_type": "code",
   "execution_count": 31,
   "id": "b66470e2",
   "metadata": {},
   "outputs": [],
   "source": [
    "df_train = pd.read_csv(\"train.csv\")"
   ]
  },
  {
   "cell_type": "code",
   "execution_count": 32,
   "id": "031a391e",
   "metadata": {},
   "outputs": [],
   "source": [
    "# Over every single \n",
    "def polyline_to_trip_duration(polyline):\n",
    "    return max(polyline.count(\"[\") - 2, 0) * 15\n",
    "\n",
    "# This code creates a new column, \"LEN\", in our dataframe. The value is\n",
    "# the (polyline_length - 1) * 15, where polyline_length = count(\"[\") - 1\n",
    "df_train[\"LEN\"] = df_train[\"POLYLINE\"].apply(polyline_to_trip_duration)"
   ]
  },
  {
   "cell_type": "code",
   "execution_count": 33,
   "id": "623d7046",
   "metadata": {},
   "outputs": [],
   "source": [
    "from datetime import datetime\n",
    "def parse_time(x):\n",
    "    # We are using python's builtin datetime library\n",
    "    # https://docs.python.org/3/library/datetime.html#datetime.date.fromtimestamp\n",
    "\n",
    "    # Each x is essentially a 1 row, 1 column pandas Series\n",
    "    dt = datetime.fromtimestamp(x[\"TIMESTAMP\"])\n",
    "    return dt.year, dt.month, dt.day, dt.hour, dt.weekday()\n",
    "\n",
    "# Because we are assigning multiple values at a time, we need to \"expand\" our computed (year, month, day, hour, weekday) tuples on \n",
    "# the column axis, or axis 1\n",
    "# https://pandas.pydata.org/docs/reference/api/pandas.DataFrame.apply.html\n",
    "df_train[[\"YR\", \"MON\", \"DAY\", \"HR\", \"WK\"]] = df_train[[\"TIMESTAMP\"]].apply(parse_time, axis=1, result_type=\"expand\")"
   ]
  },
  {
   "cell_type": "code",
   "execution_count": 34,
   "id": "2f15a8cb",
   "metadata": {},
   "outputs": [],
   "source": [
    "def feature(datum):\n",
    "    features = [1,\n",
    "                all_chars.index(datum['CALL_TYPE']),\n",
    "                datum['ORIGIN_CALL'] if not pd.isna(datum['ORIGIN_CALL']) else 0,\n",
    "                datum['ORIGIN_STAND'] if not pd.isna(datum['ORIGIN_STAND']) else 0,\n",
    "                datum['TAXI_ID'],\n",
    "                all_chars.index(datum['DAY_TYPE']),\n",
    "                datum['YR'],\n",
    "                datum['MON'],\n",
    "                datum['DAY'],\n",
    "                datum['HR'],\n",
    "                datum['WK']\n",
    "               ]\n",
    "    return features"
   ]
  },
  {
   "cell_type": "code",
   "execution_count": 35,
   "id": "663090bd",
   "metadata": {},
   "outputs": [],
   "source": [
    "X = [feature(df_train.iloc[i]) for i in range(len(df_train))]\n",
    "y = [df_train.iloc[i]['LEN'] for i in range(len(df_train))]"
   ]
  },
  {
   "cell_type": "code",
   "execution_count": 36,
   "id": "3b7cc1e0",
   "metadata": {},
   "outputs": [
    {
     "data": {
      "text/plain": [
       "LinearRegression()"
      ]
     },
     "execution_count": 36,
     "metadata": {},
     "output_type": "execute_result"
    }
   ],
   "source": [
    "reg = linear_model.LinearRegression()\n",
    "reg.fit(X, y)"
   ]
  },
  {
   "cell_type": "code",
   "execution_count": 37,
   "id": "cbaccd01",
   "metadata": {},
   "outputs": [],
   "source": [
    "df_test = pd.read_csv(\"test_public.csv\")\n",
    "df_test[[\"YR\", \"MON\", \"DAY\", \"HR\", \"WK\"]] = df_test[[\"TIMESTAMP\"]].apply(parse_time, axis=1, result_type=\"expand\")"
   ]
  },
  {
   "cell_type": "code",
   "execution_count": 38,
   "id": "5eb6cc11",
   "metadata": {},
   "outputs": [],
   "source": [
    "Xpred = [feature(df_test.iloc[i]) for i in range(len(df_test))]\n",
    "ypred = reg.predict(Xpred)"
   ]
  },
  {
   "cell_type": "code",
   "execution_count": 39,
   "id": "e8b19a9a",
   "metadata": {},
   "outputs": [],
   "source": [
    "# Sample submission file that is given on kaggle\n",
    "df_sample = pd.read_csv(\"sampleSubmission.csv\")\n",
    "\n",
    "df_sample[\"TRAVEL_TIME\"] = ypred\n",
    "\n",
    "df_sample.to_csv(\"my_pred.csv\", index=None)"
   ]
  },
  {
   "cell_type": "code",
   "execution_count": 40,
   "id": "b77f11c6",
   "metadata": {},
   "outputs": [
    {
     "data": {
      "text/plain": [
       "'\\ndef RMSE(predictions, labels):\\n    differences = [(x-y)**2 for x,y in zip(predictions,labels)]\\n    return (sum(differences) / len(differences)) ** 0.5\\n'"
      ]
     },
     "execution_count": 40,
     "metadata": {},
     "output_type": "execute_result"
    }
   ],
   "source": [
    "\"\"\"\n",
    "def RMSE(predictions, labels):\n",
    "    differences = [(x-y)**2 for x,y in zip(predictions,labels)]\n",
    "    return (sum(differences) / len(differences)) ** 0.5\n",
    "\"\"\""
   ]
  },
  {
   "cell_type": "code",
   "execution_count": 41,
   "id": "3072c1bb",
   "metadata": {},
   "outputs": [],
   "source": [
    "#labels = [df_test.iloc[i]['LEN'] for i in range(len(df_test))]"
   ]
  },
  {
   "cell_type": "code",
   "execution_count": 42,
   "id": "46251318",
   "metadata": {},
   "outputs": [],
   "source": [
    "#RMSE(ypred, labels)"
   ]
  }
 ],
 "metadata": {
  "kernelspec": {
   "display_name": "Python 3 (ipykernel)",
   "language": "python",
   "name": "python3"
  },
  "language_info": {
   "codemirror_mode": {
    "name": "ipython",
    "version": 3
   },
   "file_extension": ".py",
   "mimetype": "text/x-python",
   "name": "python",
   "nbconvert_exporter": "python",
   "pygments_lexer": "ipython3",
   "version": "3.9.5"
  }
 },
 "nbformat": 4,
 "nbformat_minor": 5
}
