{
 "cells": [
  {
   "cell_type": "code",
   "execution_count": 1,
   "id": "3a5110f0",
   "metadata": {},
   "outputs": [],
   "source": [
    "import numpy as np, pandas as pd\n",
    "import matplotlib.pyplot as plt\n",
    "import torch.nn as nn"
   ]
  },
  {
   "cell_type": "code",
   "execution_count": 2,
   "id": "1453e39b",
   "metadata": {},
   "outputs": [],
   "source": [
    "#Flag for processing training csv or test csv\n",
    "train = True"
   ]
  },
  {
   "cell_type": "code",
   "execution_count": 3,
   "id": "95215585",
   "metadata": {},
   "outputs": [],
   "source": [
    "\n",
    "if train:\n",
    "    df = pd.read_csv(\"train.csv\")\n",
    "else:\n",
    "    df = pd.read_csv(\"test_public.csv\")\n",
    "\n",
    "#Remove rows with missing data\n",
    "df = df[df['MISSING_DATA'] == False]"
   ]
  },
  {
   "cell_type": "code",
   "execution_count": 4,
   "id": "8b869bd7",
   "metadata": {},
   "outputs": [
    {
     "data": {
      "text/html": [
       "<div>\n",
       "<style scoped>\n",
       "    .dataframe tbody tr th:only-of-type {\n",
       "        vertical-align: middle;\n",
       "    }\n",
       "\n",
       "    .dataframe tbody tr th {\n",
       "        vertical-align: top;\n",
       "    }\n",
       "\n",
       "    .dataframe thead th {\n",
       "        text-align: right;\n",
       "    }\n",
       "</style>\n",
       "<table border=\"1\" class=\"dataframe\">\n",
       "  <thead>\n",
       "    <tr style=\"text-align: right;\">\n",
       "      <th></th>\n",
       "      <th>TRIP_ID</th>\n",
       "      <th>CALL_TYPE</th>\n",
       "      <th>ORIGIN_CALL</th>\n",
       "      <th>ORIGIN_STAND</th>\n",
       "      <th>TAXI_ID</th>\n",
       "      <th>TIMESTAMP</th>\n",
       "      <th>DAY_TYPE</th>\n",
       "      <th>MISSING_DATA</th>\n",
       "    </tr>\n",
       "  </thead>\n",
       "  <tbody>\n",
       "    <tr>\n",
       "      <th>0</th>\n",
       "      <td>T1</td>\n",
       "      <td>B</td>\n",
       "      <td>NaN</td>\n",
       "      <td>15.0</td>\n",
       "      <td>20000542</td>\n",
       "      <td>1408039037</td>\n",
       "      <td>A</td>\n",
       "      <td>False</td>\n",
       "    </tr>\n",
       "    <tr>\n",
       "      <th>1</th>\n",
       "      <td>T2</td>\n",
       "      <td>B</td>\n",
       "      <td>NaN</td>\n",
       "      <td>57.0</td>\n",
       "      <td>20000108</td>\n",
       "      <td>1408038611</td>\n",
       "      <td>A</td>\n",
       "      <td>False</td>\n",
       "    </tr>\n",
       "    <tr>\n",
       "      <th>2</th>\n",
       "      <td>T3</td>\n",
       "      <td>B</td>\n",
       "      <td>NaN</td>\n",
       "      <td>15.0</td>\n",
       "      <td>20000370</td>\n",
       "      <td>1408038568</td>\n",
       "      <td>A</td>\n",
       "      <td>False</td>\n",
       "    </tr>\n",
       "    <tr>\n",
       "      <th>3</th>\n",
       "      <td>T4</td>\n",
       "      <td>B</td>\n",
       "      <td>NaN</td>\n",
       "      <td>53.0</td>\n",
       "      <td>20000492</td>\n",
       "      <td>1408039090</td>\n",
       "      <td>A</td>\n",
       "      <td>False</td>\n",
       "    </tr>\n",
       "    <tr>\n",
       "      <th>4</th>\n",
       "      <td>T5</td>\n",
       "      <td>B</td>\n",
       "      <td>NaN</td>\n",
       "      <td>18.0</td>\n",
       "      <td>20000621</td>\n",
       "      <td>1408039177</td>\n",
       "      <td>A</td>\n",
       "      <td>False</td>\n",
       "    </tr>\n",
       "  </tbody>\n",
       "</table>\n",
       "</div>"
      ],
      "text/plain": [
       "  TRIP_ID CALL_TYPE  ORIGIN_CALL  ORIGIN_STAND   TAXI_ID   TIMESTAMP DAY_TYPE  \\\n",
       "0      T1         B          NaN          15.0  20000542  1408039037        A   \n",
       "1      T2         B          NaN          57.0  20000108  1408038611        A   \n",
       "2      T3         B          NaN          15.0  20000370  1408038568        A   \n",
       "3      T4         B          NaN          53.0  20000492  1408039090        A   \n",
       "4      T5         B          NaN          18.0  20000621  1408039177        A   \n",
       "\n",
       "   MISSING_DATA  \n",
       "0         False  \n",
       "1         False  \n",
       "2         False  \n",
       "3         False  \n",
       "4         False  "
      ]
     },
     "execution_count": 4,
     "metadata": {},
     "output_type": "execute_result"
    }
   ],
   "source": [
    "df.head()"
   ]
  },
  {
   "cell_type": "code",
   "execution_count": 5,
   "id": "52b03857",
   "metadata": {},
   "outputs": [
    {
     "data": {
      "text/plain": [
       "320"
      ]
     },
     "execution_count": 5,
     "metadata": {},
     "output_type": "execute_result"
    }
   ],
   "source": [
    "len(df)"
   ]
  },
  {
   "cell_type": "code",
   "execution_count": 6,
   "id": "1c319026",
   "metadata": {},
   "outputs": [],
   "source": [
    "from datetime import datetime\n",
    "def parse_time(x):\n",
    "    # We are using python's builtin datetime library\n",
    "    # https://docs.python.org/3/library/datetime.html#datetime.date.fromtimestamp\n",
    "\n",
    "    # Each x is essentially a 1 row, 1 column pandas Series\n",
    "    dt = datetime.fromtimestamp(x[\"TIMESTAMP\"])\n",
    "    return dt.year, dt.month, dt.day, dt.hour, dt.weekday()\n",
    "\n",
    "# Over every single \n",
    "def polyline_to_trip_duration(polyline):\n",
    "    return max(polyline.count(\"[\") - 2, 0) * 15\n",
    "\n",
    "# This code creates a new column, \"LEN\", in our dataframe. The value is\n",
    "# the (polyline_length - 1) * 15, where polyline_length = count(\"[\") - 1\n",
    "if train:\n",
    "    df[\"LEN\"] = df[\"POLYLINE\"].apply(polyline_to_trip_duration)\n",
    "df[[\"YR\", \"MON\", \"DAY\", \"HR\", \"WK\"]] = df[[\"TIMESTAMP\"]].apply(parse_time, axis=1, result_type=\"expand\")"
   ]
  },
  {
   "cell_type": "code",
   "execution_count": 7,
   "id": "4fbca677",
   "metadata": {},
   "outputs": [],
   "source": [
    "df[\"ORIGIN_STAND\"] = df[\"ORIGIN_STAND\"].fillna(0)\n",
    "df[\"ORIGIN_CALL\"] = df[\"ORIGIN_CALL\"].fillna(0)"
   ]
  },
  {
   "cell_type": "code",
   "execution_count": 8,
   "id": "b4365fbd",
   "metadata": {},
   "outputs": [],
   "source": [
    "#One hot encoding functions\n",
    "def encode_a(val):\n",
    "    return int(val == 'A')\n",
    "\n",
    "def encode_b(val):\n",
    "    return int(val == 'B')\n",
    "\n",
    "def encode_c(val):\n",
    "    return int(val == 'C')\n",
    "\n",
    "def encode_year(val):\n",
    "    return int(val == 2014)"
   ]
  },
  {
   "cell_type": "code",
   "execution_count": 9,
   "id": "ceaf4003",
   "metadata": {},
   "outputs": [],
   "source": [
    "#Actual one hot encoding\n",
    "df[\"CALL_TYPE_A\"] = df[\"CALL_TYPE\"].apply(encode_a)\n",
    "df[\"CALL_TYPE_B\"] = df[\"CALL_TYPE\"].apply(encode_b)\n",
    "df[\"CALL_TYPE_C\"] = df[\"CALL_TYPE\"].apply(encode_c)\n",
    "\n",
    "df[\"DAY_TYPE_A\"] = df[\"DAY_TYPE\"].apply(encode_a)\n",
    "df[\"DAY_TYPE_B\"] = df[\"DAY_TYPE\"].apply(encode_b)\n",
    "df[\"DAY_TYPE_C\"] = df[\"DAY_TYPE\"].apply(encode_c)"
   ]
  },
  {
   "cell_type": "code",
   "execution_count": 10,
   "id": "2391f084",
   "metadata": {},
   "outputs": [],
   "source": [
    "#Remove all LEN == 0\n",
    "if train:\n",
    "    zero_count = len(df[df[\"LEN\"] == 0])\n",
    "    print(f\"Removing {zero_count} LEN = 0 datapoints\")\n",
    "    df = df[df[\"LEN\"] != 0]"
   ]
  },
  {
   "cell_type": "code",
   "execution_count": 11,
   "id": "f486ed78",
   "metadata": {},
   "outputs": [
    {
     "data": {
      "text/plain": [
       "320"
      ]
     },
     "execution_count": 11,
     "metadata": {},
     "output_type": "execute_result"
    }
   ],
   "source": [
    "len(df)"
   ]
  },
  {
   "cell_type": "code",
   "execution_count": 12,
   "id": "b9d32082",
   "metadata": {},
   "outputs": [],
   "source": [
    "if train:\n",
    "    #remove outliers\n",
    "    outlier_threshold = 3\n",
    "    mean, std = df[\"LEN\"].mean(), df[\"LEN\"].std()\n",
    "    median = df[\"LEN\"].median()\n",
    "    df = df[df[\"LEN\"] < mean + outlier_threshold * std]"
   ]
  },
  {
   "cell_type": "code",
   "execution_count": 13,
   "id": "bf4b4985",
   "metadata": {},
   "outputs": [
    {
     "data": {
      "text/plain": [
       "320"
      ]
     },
     "execution_count": 13,
     "metadata": {},
     "output_type": "execute_result"
    }
   ],
   "source": [
    "len(df)"
   ]
  },
  {
   "cell_type": "code",
   "execution_count": 14,
   "id": "98cde2c5",
   "metadata": {},
   "outputs": [],
   "source": [
    "#Polyline (str type) to list\n",
    "# def polyline_to_list(polyline):\n",
    "#     all_pos = []\n",
    "#     polyline = polyline[1:len(polyline)-1].split('],[')[:-1]\n",
    "#     for pos in polyline:\n",
    "#         pos = pos.strip('[').strip(']').split(',')\n",
    "#         pos[0] = float(pos[0])\n",
    "#         pos[1] = float(pos[1])\n",
    "#         all_pos.append(pos)\n",
    "#     return all_pos\n",
    "\n",
    "#takes too long\n",
    "#df_tr[\"POLYLINE_LIST\"] = df_tr[\"POLYLINE\"].apply(polyline_to_list)"
   ]
  },
  {
   "cell_type": "code",
   "execution_count": 15,
   "id": "19fe17a3",
   "metadata": {},
   "outputs": [],
   "source": [
    "taxi_ids = list(sorted(df.TAXI_ID.unique()))"
   ]
  },
  {
   "cell_type": "code",
   "execution_count": 16,
   "id": "40e1bdf3",
   "metadata": {},
   "outputs": [],
   "source": [
    "df[\"TAXI_ID\"] = df[\"TAXI_ID\"].apply(taxi_ids.index)"
   ]
  },
  {
   "cell_type": "code",
   "execution_count": 17,
   "id": "0615b097",
   "metadata": {},
   "outputs": [],
   "source": [
    "#Clean out unnecessary columns\n",
    "df = df.drop(columns = [\"TIMESTAMP\", \"MISSING_DATA\", \"CALL_TYPE\", \"DAY_TYPE\", \"YR\", \"TRIP_ID\", \"ORIGIN_CALL\"])\n",
    "if train:\n",
    "    df.drop(columns = [\"POLYLINE\"])"
   ]
  },
  {
   "cell_type": "code",
   "execution_count": 18,
   "id": "52f7aee5",
   "metadata": {},
   "outputs": [
    {
     "data": {
      "text/html": [
       "<div>\n",
       "<style scoped>\n",
       "    .dataframe tbody tr th:only-of-type {\n",
       "        vertical-align: middle;\n",
       "    }\n",
       "\n",
       "    .dataframe tbody tr th {\n",
       "        vertical-align: top;\n",
       "    }\n",
       "\n",
       "    .dataframe thead th {\n",
       "        text-align: right;\n",
       "    }\n",
       "</style>\n",
       "<table border=\"1\" class=\"dataframe\">\n",
       "  <thead>\n",
       "    <tr style=\"text-align: right;\">\n",
       "      <th></th>\n",
       "      <th>ORIGIN_STAND</th>\n",
       "      <th>TAXI_ID</th>\n",
       "      <th>MON</th>\n",
       "      <th>DAY</th>\n",
       "      <th>HR</th>\n",
       "      <th>WK</th>\n",
       "      <th>CALL_TYPE_A</th>\n",
       "      <th>CALL_TYPE_B</th>\n",
       "      <th>CALL_TYPE_C</th>\n",
       "      <th>DAY_TYPE_A</th>\n",
       "      <th>DAY_TYPE_B</th>\n",
       "      <th>DAY_TYPE_C</th>\n",
       "    </tr>\n",
       "  </thead>\n",
       "  <tbody>\n",
       "    <tr>\n",
       "      <th>0</th>\n",
       "      <td>15.0</td>\n",
       "      <td>190</td>\n",
       "      <td>8</td>\n",
       "      <td>14</td>\n",
       "      <td>17</td>\n",
       "      <td>3</td>\n",
       "      <td>0</td>\n",
       "      <td>1</td>\n",
       "      <td>0</td>\n",
       "      <td>1</td>\n",
       "      <td>0</td>\n",
       "      <td>0</td>\n",
       "    </tr>\n",
       "    <tr>\n",
       "      <th>1</th>\n",
       "      <td>57.0</td>\n",
       "      <td>37</td>\n",
       "      <td>8</td>\n",
       "      <td>14</td>\n",
       "      <td>17</td>\n",
       "      <td>3</td>\n",
       "      <td>0</td>\n",
       "      <td>1</td>\n",
       "      <td>0</td>\n",
       "      <td>1</td>\n",
       "      <td>0</td>\n",
       "      <td>0</td>\n",
       "    </tr>\n",
       "    <tr>\n",
       "      <th>2</th>\n",
       "      <td>15.0</td>\n",
       "      <td>129</td>\n",
       "      <td>8</td>\n",
       "      <td>14</td>\n",
       "      <td>17</td>\n",
       "      <td>3</td>\n",
       "      <td>0</td>\n",
       "      <td>1</td>\n",
       "      <td>0</td>\n",
       "      <td>1</td>\n",
       "      <td>0</td>\n",
       "      <td>0</td>\n",
       "    </tr>\n",
       "    <tr>\n",
       "      <th>3</th>\n",
       "      <td>53.0</td>\n",
       "      <td>171</td>\n",
       "      <td>8</td>\n",
       "      <td>14</td>\n",
       "      <td>17</td>\n",
       "      <td>3</td>\n",
       "      <td>0</td>\n",
       "      <td>1</td>\n",
       "      <td>0</td>\n",
       "      <td>1</td>\n",
       "      <td>0</td>\n",
       "      <td>0</td>\n",
       "    </tr>\n",
       "    <tr>\n",
       "      <th>4</th>\n",
       "      <td>18.0</td>\n",
       "      <td>217</td>\n",
       "      <td>8</td>\n",
       "      <td>14</td>\n",
       "      <td>17</td>\n",
       "      <td>3</td>\n",
       "      <td>0</td>\n",
       "      <td>1</td>\n",
       "      <td>0</td>\n",
       "      <td>1</td>\n",
       "      <td>0</td>\n",
       "      <td>0</td>\n",
       "    </tr>\n",
       "  </tbody>\n",
       "</table>\n",
       "</div>"
      ],
      "text/plain": [
       "   ORIGIN_STAND  TAXI_ID  MON  DAY  HR  WK  CALL_TYPE_A  CALL_TYPE_B  \\\n",
       "0          15.0      190    8   14  17   3            0            1   \n",
       "1          57.0       37    8   14  17   3            0            1   \n",
       "2          15.0      129    8   14  17   3            0            1   \n",
       "3          53.0      171    8   14  17   3            0            1   \n",
       "4          18.0      217    8   14  17   3            0            1   \n",
       "\n",
       "   CALL_TYPE_C  DAY_TYPE_A  DAY_TYPE_B  DAY_TYPE_C  \n",
       "0            0           1           0           0  \n",
       "1            0           1           0           0  \n",
       "2            0           1           0           0  \n",
       "3            0           1           0           0  \n",
       "4            0           1           0           0  "
      ]
     },
     "execution_count": 18,
     "metadata": {},
     "output_type": "execute_result"
    }
   ],
   "source": [
    "df.head()"
   ]
  },
  {
   "cell_type": "code",
   "execution_count": 19,
   "id": "78d95532",
   "metadata": {},
   "outputs": [
    {
     "data": {
      "text/plain": [
       "320"
      ]
     },
     "execution_count": 19,
     "metadata": {},
     "output_type": "execute_result"
    }
   ],
   "source": [
    "len(df)"
   ]
  },
  {
   "cell_type": "code",
   "execution_count": 20,
   "id": "72733ead",
   "metadata": {},
   "outputs": [],
   "source": [
    "if train:\n",
    "    df.to_csv(\"processed_train.csv\")\n",
    "else:\n",
    "    df.to_csv(\"processed_test.csv\")"
   ]
  },
  {
   "cell_type": "code",
   "execution_count": null,
   "id": "7bc89c37",
   "metadata": {},
   "outputs": [],
   "source": []
  }
 ],
 "metadata": {
  "kernelspec": {
   "display_name": "Python 3 (ipykernel)",
   "language": "python",
   "name": "python3"
  },
  "language_info": {
   "codemirror_mode": {
    "name": "ipython",
    "version": 3
   },
   "file_extension": ".py",
   "mimetype": "text/x-python",
   "name": "python",
   "nbconvert_exporter": "python",
   "pygments_lexer": "ipython3",
   "version": "3.9.5"
  }
 },
 "nbformat": 4,
 "nbformat_minor": 5
}
