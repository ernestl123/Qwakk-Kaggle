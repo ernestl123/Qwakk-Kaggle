{
 "cells": [
  {
   "cell_type": "code",
   "execution_count": 25,
   "id": "f2d6e4c6",
   "metadata": {},
   "outputs": [
    {
     "name": "stdout",
     "output_type": "stream",
     "text": [
      "Defaulting to user installation because normal site-packages is not writeable\n",
      "Requirement already satisfied: tqdm in /opt/conda/lib/python3.9/site-packages (4.61.2)\n"
     ]
    }
   ],
   "source": [
    "import numpy as np, pandas as pd\n",
    "from collections import defaultdict\n",
    "import matplotlib.pyplot as plt\n",
    "import torch\n",
    "!pip install tqdm\n",
    "from tqdm import tqdm\n",
    "import torch.nn as nn"
   ]
  },
  {
   "cell_type": "code",
   "execution_count": 26,
   "id": "bad1fa41",
   "metadata": {},
   "outputs": [],
   "source": [
    "#device = torch.device(\"cuda\" if torch.cuda.is_available() else \"cpu\")\n",
    "device = torch.device(\"cpu\")"
   ]
  },
  {
   "cell_type": "code",
   "execution_count": 27,
   "id": "ac2f2998",
   "metadata": {},
   "outputs": [],
   "source": [
    "df_train = pd.read_csv(\"train.csv\")"
   ]
  },
  {
   "cell_type": "code",
   "execution_count": 28,
   "id": "38870d3b",
   "metadata": {},
   "outputs": [
    {
     "data": {
      "text/html": [
       "<div>\n",
       "<style scoped>\n",
       "    .dataframe tbody tr th:only-of-type {\n",
       "        vertical-align: middle;\n",
       "    }\n",
       "\n",
       "    .dataframe tbody tr th {\n",
       "        vertical-align: top;\n",
       "    }\n",
       "\n",
       "    .dataframe thead th {\n",
       "        text-align: right;\n",
       "    }\n",
       "</style>\n",
       "<table border=\"1\" class=\"dataframe\">\n",
       "  <thead>\n",
       "    <tr style=\"text-align: right;\">\n",
       "      <th></th>\n",
       "      <th>TRIP_ID</th>\n",
       "      <th>CALL_TYPE</th>\n",
       "      <th>ORIGIN_CALL</th>\n",
       "      <th>ORIGIN_STAND</th>\n",
       "      <th>TAXI_ID</th>\n",
       "      <th>TIMESTAMP</th>\n",
       "      <th>DAY_TYPE</th>\n",
       "      <th>MISSING_DATA</th>\n",
       "      <th>POLYLINE</th>\n",
       "    </tr>\n",
       "  </thead>\n",
       "  <tbody>\n",
       "    <tr>\n",
       "      <th>0</th>\n",
       "      <td>1372636858620000589</td>\n",
       "      <td>C</td>\n",
       "      <td>NaN</td>\n",
       "      <td>NaN</td>\n",
       "      <td>20000589</td>\n",
       "      <td>1372636858</td>\n",
       "      <td>A</td>\n",
       "      <td>False</td>\n",
       "      <td>[[-8.618643,41.141412],[-8.618499,41.141376],[...</td>\n",
       "    </tr>\n",
       "    <tr>\n",
       "      <th>1</th>\n",
       "      <td>1372637303620000596</td>\n",
       "      <td>B</td>\n",
       "      <td>NaN</td>\n",
       "      <td>7.0</td>\n",
       "      <td>20000596</td>\n",
       "      <td>1372637303</td>\n",
       "      <td>A</td>\n",
       "      <td>False</td>\n",
       "      <td>[[-8.639847,41.159826],[-8.640351,41.159871],[...</td>\n",
       "    </tr>\n",
       "    <tr>\n",
       "      <th>2</th>\n",
       "      <td>1372636951620000320</td>\n",
       "      <td>C</td>\n",
       "      <td>NaN</td>\n",
       "      <td>NaN</td>\n",
       "      <td>20000320</td>\n",
       "      <td>1372636951</td>\n",
       "      <td>A</td>\n",
       "      <td>False</td>\n",
       "      <td>[[-8.612964,41.140359],[-8.613378,41.14035],[-...</td>\n",
       "    </tr>\n",
       "    <tr>\n",
       "      <th>3</th>\n",
       "      <td>1372636854620000520</td>\n",
       "      <td>C</td>\n",
       "      <td>NaN</td>\n",
       "      <td>NaN</td>\n",
       "      <td>20000520</td>\n",
       "      <td>1372636854</td>\n",
       "      <td>A</td>\n",
       "      <td>False</td>\n",
       "      <td>[[-8.574678,41.151951],[-8.574705,41.151942],[...</td>\n",
       "    </tr>\n",
       "    <tr>\n",
       "      <th>4</th>\n",
       "      <td>1372637091620000337</td>\n",
       "      <td>C</td>\n",
       "      <td>NaN</td>\n",
       "      <td>NaN</td>\n",
       "      <td>20000337</td>\n",
       "      <td>1372637091</td>\n",
       "      <td>A</td>\n",
       "      <td>False</td>\n",
       "      <td>[[-8.645994,41.18049],[-8.645949,41.180517],[-...</td>\n",
       "    </tr>\n",
       "  </tbody>\n",
       "</table>\n",
       "</div>"
      ],
      "text/plain": [
       "               TRIP_ID CALL_TYPE  ORIGIN_CALL  ORIGIN_STAND   TAXI_ID  \\\n",
       "0  1372636858620000589         C          NaN           NaN  20000589   \n",
       "1  1372637303620000596         B          NaN           7.0  20000596   \n",
       "2  1372636951620000320         C          NaN           NaN  20000320   \n",
       "3  1372636854620000520         C          NaN           NaN  20000520   \n",
       "4  1372637091620000337         C          NaN           NaN  20000337   \n",
       "\n",
       "    TIMESTAMP DAY_TYPE  MISSING_DATA  \\\n",
       "0  1372636858        A         False   \n",
       "1  1372637303        A         False   \n",
       "2  1372636951        A         False   \n",
       "3  1372636854        A         False   \n",
       "4  1372637091        A         False   \n",
       "\n",
       "                                            POLYLINE  \n",
       "0  [[-8.618643,41.141412],[-8.618499,41.141376],[...  \n",
       "1  [[-8.639847,41.159826],[-8.640351,41.159871],[...  \n",
       "2  [[-8.612964,41.140359],[-8.613378,41.14035],[-...  \n",
       "3  [[-8.574678,41.151951],[-8.574705,41.151942],[...  \n",
       "4  [[-8.645994,41.18049],[-8.645949,41.180517],[-...  "
      ]
     },
     "execution_count": 28,
     "metadata": {},
     "output_type": "execute_result"
    }
   ],
   "source": [
    "df_train.head()"
   ]
  },
  {
   "cell_type": "code",
   "execution_count": 29,
   "id": "fa159df5",
   "metadata": {},
   "outputs": [],
   "source": [
    "# Over every single \n",
    "def polyline_to_trip_duration(polyline):\n",
    "    return max(polyline.count(\"[\") - 2, 0) * 15\n",
    "\n",
    "# This code creates a new column, \"LEN\", in our dataframe. The value is\n",
    "# the (polyline_length - 1) * 15, where polyline_length = count(\"[\") - 1\n",
    "df_train[\"LEN\"] = df_train[\"POLYLINE\"].apply(polyline_to_trip_duration)"
   ]
  },
  {
   "cell_type": "code",
   "execution_count": 30,
   "id": "ca6292c6",
   "metadata": {},
   "outputs": [],
   "source": [
    "from datetime import datetime\n",
    "def parse_time(x):\n",
    "    # We are using python's builtin datetime library\n",
    "    # https://docs.python.org/3/library/datetime.html#datetime.date.fromtimestamp\n",
    "\n",
    "    # Each x is essentially a 1 row, 1 column pandas Series\n",
    "    dt = datetime.fromtimestamp(x[\"TIMESTAMP\"])\n",
    "    return dt.year, dt.month, dt.day, dt.hour, dt.weekday()\n",
    "\n",
    "# Because we are assigning multiple values at a time, we need to \"expand\" our computed (year, month, day, hour, weekday) tuples on \n",
    "# the column axis, or axis 1\n",
    "# https://pandas.pydata.org/docs/reference/api/pandas.DataFrame.apply.html\n",
    "df_train[[\"YR\", \"MON\", \"DAY\", \"HR\", \"WK\"]] = df_train[[\"TIMESTAMP\"]].apply(parse_time, axis=1, result_type=\"expand\")"
   ]
  },
  {
   "cell_type": "code",
   "execution_count": 31,
   "id": "f2451246",
   "metadata": {},
   "outputs": [],
   "source": [
    "#filter so only day type A is present\n",
    "df_train = df_train[df_train['DAY_TYPE'] == 'A']"
   ]
  },
  {
   "cell_type": "code",
   "execution_count": 32,
   "id": "739cfbf9",
   "metadata": {},
   "outputs": [],
   "source": [
    "#One hot encoding functions\n",
    "def encode_a(val):\n",
    "    return int(val == 'A')\n",
    "\n",
    "def encode_b(val):\n",
    "    return int(val == 'B')\n",
    "\n",
    "def encode_c(val):\n",
    "    return int(val == 'C')\n",
    "\n",
    "def encode_year(val):\n",
    "    return int(val == 2014)"
   ]
  },
  {
   "cell_type": "code",
   "execution_count": 33,
   "id": "7fb81b09",
   "metadata": {},
   "outputs": [],
   "source": [
    "#Actual one hot encoding\n",
    "df_train[\"CALL_TYPE_A\"] = df_train[\"CALL_TYPE\"].apply(encode_a)\n",
    "df_train[\"CALL_TYPE_B\"] = df_train[\"CALL_TYPE\"].apply(encode_b)\n",
    "df_train[\"CALL_TYPE_C\"] = df_train[\"CALL_TYPE\"].apply(encode_c)"
   ]
  },
  {
   "cell_type": "code",
   "execution_count": 34,
   "id": "cf776947",
   "metadata": {},
   "outputs": [],
   "source": [
    "#one-hot encode origin stands (min = 0, max = 63)\n",
    "df_train[\"ORIGIN_STAND\"] = df_train[\"ORIGIN_STAND\"].fillna(0)"
   ]
  },
  {
   "cell_type": "code",
   "execution_count": 35,
   "id": "e162e05b",
   "metadata": {},
   "outputs": [
    {
     "data": {
      "text/plain": [
       "\"\\ncall_id_times = defaultdict(list)\\ntaxi_id_times = defaultdict(list)\\norigin_stand_times = defaultdict(list)\\nweekday_times = defaultdict(list)\\nmonth_times = defaultdict(list)\\nhour_times = defaultdict(list)\\n\\nfor i in range(len(df_train)):\\n    if not pd.isna(df_train.iloc[i]['ORIGIN_CALL']):\\n        call_id_times[int(df_train.iloc[i]['ORIGIN_CALL'])].append(df_train.iloc[i]['LEN'])\\n        \\n    taxi_id_times[df_train.iloc[i]['TAXI_ID']].append(df_train.iloc[i]['LEN'])\\n    \\n    if df_train.iloc[i]['ORIGIN_STAND'] > 0:\\n        origin_stand_times[df_train.iloc[i]['ORIGIN_STAND']].append(df_train.iloc[i]['LEN'])\\n    \\n    weekday_times[df_train.iloc[i]['WK']].append(df_train.iloc[i]['LEN'])\\n    month_times[df_train.iloc[i]['MON']].append(df_train.iloc[i]['LEN'])\\n    hour_times[df_train.iloc[i]['HR']].append(df_train.iloc[i]['LEN'])\\n    \\ncall_id_average = defaultdict(int)\\ntaxi_id_average = defaultdict(int)\\norigin_stand_average = defaultdict(int)\\nweekday_average = defaultdict(int)\\nmonth_average = defaultdict(int)\\nhour_average = defaultdict(int)\\n\\ncall_file = open('call_averages.txt', 'w')\\nfor call_id in call_id_times:\\n    mean = sum(call_id_times[call_id]) / len(call_id_times[call_id])\\n    call_id_average[call_id] = mean\\n    call_file.write(f'{call_id} {mean}\\n')\\ncall_file.close()\\n\\ntaxi_file = open('taxi_averages.txt', 'w')\\nfor taxi_id in taxi_id_times:\\n    mean = sum(taxi_id_times[taxi_id]) / len(taxi_id_times[taxi_id])\\n    taxi_id_average[taxi_id] = mean\\n    taxi_file.write(f'{taxi_id} {mean}\\n')\\ntaxi_file.close()\\n  \\nstand_file = open('stand_averages.txt', 'w')  \\nfor origin_stand in origin_stand_times:\\n    mean = sum(origin_stand_times[origin_stand]) / len(origin_stand_times[origin_stand])\\n    origin_stand_average[origin_stand] = mean\\n    stand_file.write(f'{origin_stand} {mean}\\n')\\nstand_file.close()\\n \\nweekday_file = open('weekday_averages.txt', 'w')   \\nfor weekday in weekday_times:\\n    mean = sum(weekday_times[weekday]) / len(weekday_times[weekday])\\n    weekday_average[weekday] = mean\\n    weekday_file.write(f'{weekday} {mean}\\n')\\nweekday_file.close()\\n \\nmonth_file = open('month_averages.txt', 'w')   \\nfor month in month_times:\\n    mean = sum(month_times[month]) / len(month_times[month])\\n    month_average[month] = mean\\n    month_file.write(f'{month} {mean}\\n')\\nmonth_file.close()\\n\\nhour_file = open('hour_averages.txt', 'w')    \\nfor hour in hour_times:\\n    mean = sum(hour_times[hour]) / len(hour_times[hour])\\n    hour_average[hour] = mean   \\n    hour_file.write(f'{hour} {mean}\\n')\\nhour_file.close() \\n\""
      ]
     },
     "execution_count": 35,
     "metadata": {},
     "output_type": "execute_result"
    }
   ],
   "source": [
    "\"\"\"\n",
    "call_id_times = defaultdict(list)\n",
    "taxi_id_times = defaultdict(list)\n",
    "origin_stand_times = defaultdict(list)\n",
    "weekday_times = defaultdict(list)\n",
    "month_times = defaultdict(list)\n",
    "hour_times = defaultdict(list)\n",
    "\n",
    "for i in range(len(df_train)):\n",
    "    if not pd.isna(df_train.iloc[i]['ORIGIN_CALL']):\n",
    "        call_id_times[int(df_train.iloc[i]['ORIGIN_CALL'])].append(df_train.iloc[i]['LEN'])\n",
    "        \n",
    "    taxi_id_times[df_train.iloc[i]['TAXI_ID']].append(df_train.iloc[i]['LEN'])\n",
    "    \n",
    "    if df_train.iloc[i]['ORIGIN_STAND'] > 0:\n",
    "        origin_stand_times[df_train.iloc[i]['ORIGIN_STAND']].append(df_train.iloc[i]['LEN'])\n",
    "    \n",
    "    weekday_times[df_train.iloc[i]['WK']].append(df_train.iloc[i]['LEN'])\n",
    "    month_times[df_train.iloc[i]['MON']].append(df_train.iloc[i]['LEN'])\n",
    "    hour_times[df_train.iloc[i]['HR']].append(df_train.iloc[i]['LEN'])\n",
    "    \n",
    "call_id_average = defaultdict(int)\n",
    "taxi_id_average = defaultdict(int)\n",
    "origin_stand_average = defaultdict(int)\n",
    "weekday_average = defaultdict(int)\n",
    "month_average = defaultdict(int)\n",
    "hour_average = defaultdict(int)\n",
    "\n",
    "call_file = open('call_averages.txt', 'w')\n",
    "for call_id in call_id_times:\n",
    "    mean = sum(call_id_times[call_id]) / len(call_id_times[call_id])\n",
    "    call_id_average[call_id] = mean\n",
    "    call_file.write(f'{call_id} {mean}\\n')\n",
    "call_file.close()\n",
    "\n",
    "taxi_file = open('taxi_averages.txt', 'w')\n",
    "for taxi_id in taxi_id_times:\n",
    "    mean = sum(taxi_id_times[taxi_id]) / len(taxi_id_times[taxi_id])\n",
    "    taxi_id_average[taxi_id] = mean\n",
    "    taxi_file.write(f'{taxi_id} {mean}\\n')\n",
    "taxi_file.close()\n",
    "  \n",
    "stand_file = open('stand_averages.txt', 'w')  \n",
    "for origin_stand in origin_stand_times:\n",
    "    mean = sum(origin_stand_times[origin_stand]) / len(origin_stand_times[origin_stand])\n",
    "    origin_stand_average[origin_stand] = mean\n",
    "    stand_file.write(f'{origin_stand} {mean}\\n')\n",
    "stand_file.close()\n",
    " \n",
    "weekday_file = open('weekday_averages.txt', 'w')   \n",
    "for weekday in weekday_times:\n",
    "    mean = sum(weekday_times[weekday]) / len(weekday_times[weekday])\n",
    "    weekday_average[weekday] = mean\n",
    "    weekday_file.write(f'{weekday} {mean}\\n')\n",
    "weekday_file.close()\n",
    " \n",
    "month_file = open('month_averages.txt', 'w')   \n",
    "for month in month_times:\n",
    "    mean = sum(month_times[month]) / len(month_times[month])\n",
    "    month_average[month] = mean\n",
    "    month_file.write(f'{month} {mean}\\n')\n",
    "month_file.close()\n",
    "\n",
    "hour_file = open('hour_averages.txt', 'w')    \n",
    "for hour in hour_times:\n",
    "    mean = sum(hour_times[hour]) / len(hour_times[hour])\n",
    "    hour_average[hour] = mean   \n",
    "    hour_file.write(f'{hour} {mean}\\n')\n",
    "hour_file.close() \n",
    "\"\"\""
   ]
  },
  {
   "cell_type": "code",
   "execution_count": 55,
   "id": "da450352",
   "metadata": {},
   "outputs": [
    {
     "name": "stdout",
     "output_type": "stream",
     "text": [
      "707.2356564380711\n"
     ]
    }
   ],
   "source": [
    "df_no_call_id = df_train[pd.isna(df_train['ORIGIN_CALL'])]\n",
    "\n",
    "times = []\n",
    "for i in range(len(df_no_call_id)):\n",
    "    times.append(df_no_call_id.iloc[i]['LEN'])\n",
    "    \n",
    "average_no_call_id_time = sum(times) / len(times)\n",
    "print(average_no_call_id_time)"
   ]
  },
  {
   "cell_type": "code",
   "execution_count": 56,
   "id": "1c311864",
   "metadata": {},
   "outputs": [
    {
     "name": "stdout",
     "output_type": "stream",
     "text": [
      "763.3096668366348\n"
     ]
    }
   ],
   "source": [
    "df_no_stand = df_train[df_train['ORIGIN_STAND'] == 0]\n",
    "\n",
    "times = []\n",
    "for i in range(len(df_no_stand)):\n",
    "    times.append(df_no_stand.iloc[i]['LEN'])\n",
    "    \n",
    "average_no_stand_time = sum(times) / len(times)\n",
    "print(average_no_stand_time)"
   ]
  },
  {
   "cell_type": "code",
   "execution_count": 99,
   "id": "8cfb8647",
   "metadata": {},
   "outputs": [],
   "source": [
    "call_id_average = defaultdict(int)\n",
    "taxi_id_average = defaultdict(int)\n",
    "origin_stand_average = defaultdict(int)\n",
    "weekday_average = defaultdict(int)\n",
    "month_average = defaultdict(int)\n",
    "hour_average = defaultdict(int)\n",
    "\n",
    "call_file = open('call_averages.txt', 'r')\n",
    "line = call_file.readline().strip('\\n')\n",
    "while line != \"\":\n",
    "    feature = line.split()\n",
    "    call_id_average[int(feature[0])] = float(feature[1])\n",
    "    line = call_file.readline().strip('\\n')\n",
    "call_file.close()\n",
    "\n",
    "taxi_file = open('taxi_averages.txt', 'r')\n",
    "line = taxi_file.readline().strip('\\n')\n",
    "while line != \"\":\n",
    "    feature = line.split()\n",
    "    taxi_id_average[int(feature[0])] = float(feature[1])\n",
    "    line = taxi_file.readline().strip('\\n')\n",
    "taxi_file.close()\n",
    "\n",
    "origin_file = open('stand_averages.txt', 'r')\n",
    "line = origin_file.readline().strip('\\n')\n",
    "while line != \"\":\n",
    "    feature = line.split()\n",
    "    origin_stand_average[float(feature[0])] = float(feature[1])\n",
    "    line = origin_file.readline().strip('\\n')\n",
    "origin_file.close()\n",
    "\n",
    "weekday_file = open('weekday_averages.txt', 'r')\n",
    "line = weekday_file.readline().strip('\\n')\n",
    "while line != \"\":\n",
    "    feature = line.split()\n",
    "    weekday_average[int(feature[0])] = float(feature[1])\n",
    "    line = weekday_file.readline().strip('\\n')\n",
    "weekday_file.close()\n",
    "\n",
    "month_file = open('month_averages.txt', 'r')\n",
    "line = month_file.readline().strip('\\n')\n",
    "while line != \"\":\n",
    "    feature = line.split()\n",
    "    month_average[int(feature[0])] = float(feature[1])\n",
    "    line = month_file.readline().strip('\\n')\n",
    "month_file.close()\n",
    "\n",
    "hour_file = open('hour_averages.txt', 'r')\n",
    "line = hour_file.readline().strip('\\n')\n",
    "while line != \"\":\n",
    "    feature = line.split()\n",
    "    hour_average[int(feature[0])] = float(feature[1])\n",
    "    line = hour_file.readline().strip('\\n')\n",
    "hour_file.close()"
   ]
  },
  {
   "cell_type": "code",
   "execution_count": 131,
   "id": "7ef3b2be",
   "metadata": {},
   "outputs": [],
   "source": [
    "def feature(datum):\n",
    "    features = [1,\n",
    "                #datum['CALL_TYPE_A'],\n",
    "                #datum['CALL_TYPE_B'],\n",
    "                #datum['CALL_TYPE_C'],\n",
    "                #datum['ORIGIN_CALL'] if not pd.isna(datum['ORIGIN_CALL']) else 0,\n",
    "                #datum['TAXI_ID'],\n",
    "                #datum['ORIGIN_STAND'],\n",
    "                #datum['YR'],\n",
    "                #datum['MON'],\n",
    "                #datum['DAY'],\n",
    "                #datum['HR'],\n",
    "                #datum['WK'],\n",
    "                call_id_average[datum['ORIGIN_CALL']] if not pd.isna(datum['ORIGIN_CALL']) else average_no_call_id_time,\n",
    "                taxi_id_average[datum['TAXI_ID']],\n",
    "                origin_stand_average[datum['ORIGIN_STAND']] if datum['ORIGIN_STAND'] > 0 else average_no_stand_time,\n",
    "                weekday_average[datum['WK']],\n",
    "                month_average[datum['MON']],\n",
    "                hour_average[datum['HR']]\n",
    "               ]\n",
    "    \n",
    "    #origin_encoding = [0] * 64\n",
    "    #origin_encoding[int(datum['ORIGIN_STAND'])] = 1\n",
    "    \n",
    "    #features += origin_encoding\n",
    "    \n",
    "    return features"
   ]
  },
  {
   "cell_type": "code",
   "execution_count": 132,
   "id": "4fd0d421",
   "metadata": {},
   "outputs": [],
   "source": [
    "device = torch.device(\"cuda\" if torch.cuda.is_available() else \"cpu\")"
   ]
  },
  {
   "cell_type": "code",
   "execution_count": 133,
   "id": "08e83c69",
   "metadata": {},
   "outputs": [
    {
     "name": "stdout",
     "output_type": "stream",
     "text": [
      "7\n"
     ]
    }
   ],
   "source": [
    "input_size = len(feature(df_train.iloc[0]))\n",
    "print(input_size)"
   ]
  },
  {
   "cell_type": "code",
   "execution_count": 134,
   "id": "e0d66c4c",
   "metadata": {},
   "outputs": [
    {
     "name": "stdout",
     "output_type": "stream",
     "text": [
      "[1, 707.2356564380711, 691.691610455312, 763.3096668366348, 749.7618374589038, 697.4837269980775, 594.591007858985]\n"
     ]
    }
   ],
   "source": [
    "for i in range(1):\n",
    "    print(feature(df_train.iloc[i]))"
   ]
  },
  {
   "cell_type": "code",
   "execution_count": 135,
   "id": "b2dc9684",
   "metadata": {},
   "outputs": [],
   "source": [
    "df_sample = df_train.sample(frac=0.2)"
   ]
  },
  {
   "cell_type": "code",
   "execution_count": 136,
   "id": "8251eda4",
   "metadata": {},
   "outputs": [],
   "source": [
    "features = [feature(df_sample.iloc[i]) for i in range(len(df_sample))]"
   ]
  },
  {
   "cell_type": "code",
   "execution_count": 137,
   "id": "fc28742b",
   "metadata": {},
   "outputs": [],
   "source": [
    "x = torch.tensor(np.array(features), dtype = torch.float).to(device)\n",
    "y = torch.tensor(np.array(df_sample[\"LEN\"]), dtype = torch.float).to(device)\n",
    "\n",
    "data = list(zip(x, y))\n",
    "train_size = int(0.8 * len(data))\n",
    "val_size = int(0.1 * len(data))\n",
    "test_size = len(data) - train_size - val_size\n",
    "\n",
    "train_data, test_data, val_data = torch.utils.data.random_split(data, [train_size, test_size, val_size])"
   ]
  },
  {
   "cell_type": "code",
   "execution_count": 138,
   "id": "01f560a4",
   "metadata": {},
   "outputs": [
    {
     "data": {
      "text/plain": [
       "(273707, 34214, 34213)"
      ]
     },
     "execution_count": 138,
     "metadata": {},
     "output_type": "execute_result"
    }
   ],
   "source": [
    "len(train_data), len(test_data), len(val_data)"
   ]
  },
  {
   "cell_type": "code",
   "execution_count": 139,
   "id": "b32e0aff",
   "metadata": {},
   "outputs": [],
   "source": [
    "batch_size = 5\n",
    "train_loader = torch.utils.data.DataLoader(train_data, batch_size=batch_size, shuffle = True)\n",
    "valid_loader = torch.utils.data.DataLoader(val_data, batch_size=batch_size, shuffle = False)\n",
    "test_loader = torch.utils.data.DataLoader(test_data, batch_size=batch_size, shuffle = False)"
   ]
  },
  {
   "cell_type": "code",
   "execution_count": 140,
   "id": "f1790025",
   "metadata": {},
   "outputs": [],
   "source": [
    "learning_rate = 1e-5"
   ]
  },
  {
   "cell_type": "code",
   "execution_count": 141,
   "id": "59ee26fc",
   "metadata": {},
   "outputs": [],
   "source": [
    "model = nn.Sequential(\n",
    "    nn.Linear(input_size, 768),\n",
    "    nn.ReLU(),\n",
    "    nn.Linear(768, 1024),\n",
    "    nn.ReLU(),\n",
    "    nn.Linear(1024, 1024),\n",
    "    nn.ReLU(),\n",
    "    nn.Linear(1024, 1024),\n",
    "    nn.ReLU(),\n",
    "    nn.Linear(1024, 256),\n",
    "    nn.ReLU(),\n",
    "    nn.Linear(256, 1),\n",
    "    nn.ReLU()\n",
    ").to(device)"
   ]
  },
  {
   "cell_type": "code",
   "execution_count": 142,
   "id": "39ab50d8",
   "metadata": {},
   "outputs": [],
   "source": [
    "loss_fn = torch.nn.MSELoss().to(device)\n",
    "#optimizer = torch.optim.Adam(model.parameters(), lr = learning_rate)\n",
    "optimizer = torch.optim.SGD(model.parameters(), lr = learning_rate)\n",
    "#optimizer = torch.optim.Adagrad(model.parameters())\n",
    "scheduler = torch.optim.lr_scheduler.StepLR(optimizer, step_size=5, gamma=0.1)"
   ]
  },
  {
   "cell_type": "code",
   "execution_count": 143,
   "id": "ed483540",
   "metadata": {},
   "outputs": [],
   "source": [
    "from tqdm import trange\n",
    "def train_epoch(train_data, model, optimizer, loss_fn, batch_size):\n",
    "    losses = []\n",
    "    train_len = len(train_data)\n",
    "\n",
    "    # get a batch of training data\n",
    "    for x, y in tqdm(train_data):\n",
    "        # make predictions for this batch\n",
    "        y_pred = torch.squeeze(model(x))\n",
    "        \n",
    "        # Compute the RSME loss\n",
    "        loss = torch.sqrt(loss_fn(y_pred, y))\n",
    "        \n",
    "        # Backpropagation\n",
    "        # zero out the gradients so that it will not accumulate through each iteration\n",
    "        optimizer.zero_grad()\n",
    "        \n",
    "        # Compute the gradents with the backward call (backprop)\n",
    "        loss.backward()\n",
    "        \n",
    "        # Update weight using gradient descent \n",
    "        optimizer.step()\n",
    "        \n",
    "        losses.append(loss.item())\n",
    "\n",
    "    return np.mean(losses)\n",
    "\n",
    "def eval_epoch(valid_loader, model, loss_function):\n",
    "    total = 0\n",
    "    correct = 0\n",
    "    preds = []\n",
    "    trues = []\n",
    "    losses = []\n",
    "    with torch.no_grad(): \n",
    "        for x, y in tqdm(valid_loader):\n",
    "            # Compute prediction\n",
    "            y_pred = torch.squeeze(model(x))\n",
    "            \n",
    "            loss = torch.sqrt(loss_fn(y_pred, y))\n",
    "            losses.append(loss.item())\n",
    "#             total += 1\n",
    "#             correct += ((y <= t+10) and (y >= t-10))\n",
    "#             #trues.append(t)\n",
    "#             preds.append(y)\n",
    "            \n",
    "    return np.mean(losses)#float(correct/total*100), preds\n",
    "train_losses = []\n",
    "val_losses = []"
   ]
  },
  {
   "cell_type": "code",
   "execution_count": 144,
   "id": "6fceb055",
   "metadata": {
    "scrolled": true
   },
   "outputs": [
    {
     "name": "stdout",
     "output_type": "stream",
     "text": [
      "Training on 273707 data with batch size of 5!\n"
     ]
    },
    {
     "name": "stderr",
     "output_type": "stream",
     "text": [
      "100%|██████████| 54742/54742 [04:31<00:00, 201.49it/s]\n",
      "100%|██████████| 6843/6843 [00:03<00:00, 1966.02it/s]\n"
     ]
    },
    {
     "name": "stdout",
     "output_type": "stream",
     "text": [
      "Epoch: 1, Train Loss: 438.8169, Validation Loss 436.7555\n",
      "\n"
     ]
    },
    {
     "name": "stderr",
     "output_type": "stream",
     "text": [
      "100%|██████████| 54742/54742 [04:47<00:00, 190.71it/s]\n",
      "100%|██████████| 6843/6843 [00:03<00:00, 1788.18it/s]\n"
     ]
    },
    {
     "name": "stdout",
     "output_type": "stream",
     "text": [
      "Epoch: 2, Train Loss: 437.0870, Validation Loss 446.6995\n",
      "\n"
     ]
    },
    {
     "name": "stderr",
     "output_type": "stream",
     "text": [
      "100%|██████████| 54742/54742 [04:41<00:00, 194.49it/s]\n",
      "100%|██████████| 6843/6843 [00:03<00:00, 1783.26it/s]\n"
     ]
    },
    {
     "name": "stdout",
     "output_type": "stream",
     "text": [
      "Epoch: 3, Train Loss: 436.4983, Validation Loss 448.8440\n",
      "\n"
     ]
    },
    {
     "name": "stderr",
     "output_type": "stream",
     "text": [
      "100%|██████████| 54742/54742 [04:31<00:00, 201.65it/s]\n",
      "100%|██████████| 6843/6843 [00:03<00:00, 1981.49it/s]\n"
     ]
    },
    {
     "name": "stdout",
     "output_type": "stream",
     "text": [
      "Epoch: 4, Train Loss: 436.1080, Validation Loss 437.0973\n",
      "\n"
     ]
    },
    {
     "name": "stderr",
     "output_type": "stream",
     "text": [
      "100%|██████████| 54742/54742 [04:35<00:00, 198.43it/s]\n",
      "100%|██████████| 6843/6843 [00:03<00:00, 1881.45it/s]"
     ]
    },
    {
     "name": "stdout",
     "output_type": "stream",
     "text": [
      "Epoch: 5, Train Loss: 435.8560, Validation Loss 442.2371\n",
      "\n"
     ]
    },
    {
     "name": "stderr",
     "output_type": "stream",
     "text": [
      "\n"
     ]
    }
   ],
   "source": [
    "total_epochs = 5\n",
    "train_accs, valid_accs = [], []\n",
    "max_acc = 0\n",
    "val_loss = 0\n",
    "print(f\"Training on {len(train_data)} data with batch size of {batch_size}!\")\n",
    "for epoch in range(total_epochs):\n",
    "    \n",
    "    model.train() # gradient tracking is on\n",
    "    \n",
    "    train_loss = train_epoch(train_loader, model, optimizer, loss_fn, batch_size)\n",
    "    \n",
    "    train_losses.append(train_loss)\n",
    "    \n",
    "    model.eval()\n",
    "    val_loss = eval_epoch(valid_loader, model, loss_fn)\n",
    "    val_losses.append(val_loss)\n",
    "    scheduler.step()\n",
    "    print(f\"Epoch: {epoch+1}, Train Loss: {train_loss:>0.4f}, Validation Loss {val_loss:>0.4f}\\n\")"
   ]
  },
  {
   "cell_type": "code",
   "execution_count": 145,
   "id": "5d707536",
   "metadata": {},
   "outputs": [
    {
     "name": "stderr",
     "output_type": "stream",
     "text": [
      "100%|██████████| 6843/6843 [00:03<00:00, 1815.49it/s]\n"
     ]
    },
    {
     "data": {
      "text/plain": [
       "437.80215163553527"
      ]
     },
     "execution_count": 145,
     "metadata": {},
     "output_type": "execute_result"
    }
   ],
   "source": [
    "model.eval()\n",
    "eval_epoch(test_loader, model, loss_fn)"
   ]
  },
  {
   "cell_type": "code",
   "execution_count": 146,
   "id": "56c480b0",
   "metadata": {},
   "outputs": [
    {
     "data": {
      "image/png": "[encoded data removed]",
      "text/plain": [
       "<Figure size 432x288 with 1 Axes>"
      ]
     },
     "metadata": {
      "needs_background": "light"
     },
     "output_type": "display_data"
    }
   ],
   "source": [
    "plt.figure()\n",
    "e = len(train_losses)\n",
    "x_axis = np.arange(1, e + 1, 1)\n",
    "plt.plot(x_axis, train_losses, label = \"Train\")\n",
    "plt.plot(x_axis, val_losses, label = \"Validation\")\n",
    "plt.legend()\n",
    "plt.title('Training losses')\n",
    "plt.xlabel(\"Epochs\")\n",
    "plt.show()"
   ]
  },
  {
   "cell_type": "code",
   "execution_count": 147,
   "id": "8ee6f111",
   "metadata": {},
   "outputs": [],
   "source": [
    "torch.save(model, \"MLP3\")"
   ]
  },
  {
   "cell_type": "code",
   "execution_count": 148,
   "id": "dda71e86",
   "metadata": {},
   "outputs": [],
   "source": [
    "df_test = pd.read_csv(\"test_public.csv\")\n",
    "df_out = df_test[\"TRIP_ID\"].to_frame()"
   ]
  },
  {
   "cell_type": "code",
   "execution_count": 149,
   "id": "1c0229df",
   "metadata": {},
   "outputs": [],
   "source": [
    "#process test data\n",
    "df_test[[\"YR\", \"MON\", \"DAY\", \"HR\", \"WK\"]] = df_test[[\"TIMESTAMP\"]].apply(parse_time, axis=1, result_type=\"expand\")\n",
    "\n",
    "df_test[\"CALL_TYPE_A\"] = df_test[\"CALL_TYPE\"].apply(encode_a)\n",
    "df_test[\"CALL_TYPE_B\"] = df_test[\"CALL_TYPE\"].apply(encode_b)\n",
    "df_test[\"CALL_TYPE_C\"] = df_test[\"CALL_TYPE\"].apply(encode_c)\n",
    "\n",
    "df_test[\"ORIGIN_STAND\"] = df_test[\"ORIGIN_STAND\"].fillna(0)"
   ]
  },
  {
   "cell_type": "code",
   "execution_count": 150,
   "id": "3994006e",
   "metadata": {},
   "outputs": [],
   "source": [
    "x_test = [torch.tensor(feature(df_test.iloc[i]),dtype=torch.float).to(device) for i in range(len(df_test))]"
   ]
  },
  {
   "cell_type": "code",
   "execution_count": 151,
   "id": "84899c9b",
   "metadata": {},
   "outputs": [],
   "source": [
    "model.eval()\n",
    "with torch.no_grad(): \n",
    "    df_out[\"TRAVEL_TIME\"] = [float(model(x).cpu()) for x in x_test]\n",
    "df_out.head()\n",
    "df_out.to_csv(\"my_pred.csv\", index=None)"
   ]
  }
 ],
 "metadata": {
  "kernelspec": {
   "display_name": "Python 3 (ipykernel)",
   "language": "python",
   "name": "python3"
  },
  "language_info": {
   "codemirror_mode": {
    "name": "ipython",
    "version": 3
   },
   "file_extension": ".py",
   "mimetype": "text/x-python",
   "name": "python",
   "nbconvert_exporter": "python",
   "pygments_lexer": "ipython3",
   "version": "3.9.5"
  }
 },
 "nbformat": 4,
 "nbformat_minor": 5
}
